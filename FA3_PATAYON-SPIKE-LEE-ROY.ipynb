{
 "cells": [
  {
   "cell_type": "markdown",
   "metadata": {},
   "source": [
    "# Functions"
   ]
  },
  {
   "cell_type": "markdown",
   "metadata": {},
   "source": [
    "\"In the context of programming, a function is a named sequence of statements that performs a computation. When you define a function, you specify the name and the sequence of statements. Later, you can “call” the function by name.\" - Allen B. Downey"
   ]
  },
  {
   "cell_type": "raw",
   "metadata": {},
   "source": [
    "    1. Write a Python program to print the even numbers from a given list.\n",
    "\n",
    "        List: [1, 2, 3, 4, 5, 6, 7, 8, 9, 10, 11, 13, 15, 17, 19, 24, 26, 28, 30, 32]"
   ]
  },
  {
   "cell_type": "code",
   "execution_count": 14,
   "metadata": {},
   "outputs": [
    {
     "name": "stdout",
     "output_type": "stream",
     "text": [
      "[2, 4, 6, 8, 10, 24, 26, 28, 30, 32]\n"
     ]
    }
   ],
   "source": [
    "samplelist = [1, 2, 3, 4, 5, 6, 7, 8, 9, 10, 11, 13, 15, 17, 19, 24, 26, 28, 30, 32]\n",
    "\n",
    "convertlist = []\n",
    "\n",
    "for x in samplelist:\n",
    "    if x%2 == 0:\n",
    "        convertlist.append(x)\n",
    "\n",
    "print(convertlist)"
   ]
  },
  {
   "cell_type": "raw",
   "metadata": {},
   "source": [
    "    2. Generate a Python list of all the even numbers between 10 to 60."
   ]
  },
  {
   "cell_type": "code",
   "execution_count": 13,
   "metadata": {},
   "outputs": [
    {
     "name": "stdout",
     "output_type": "stream",
     "text": [
      "[10, 12, 14, 16, 18, 20, 22, 24, 26, 28, 30, 32, 34, 36, 38, 40, 42, 44, 46, 48, 50, 52, 54, 56, 58, 60]\n"
     ]
    }
   ],
   "source": [
    "datalist = list(range(10, 60 + 1))\n",
    "newlist = []\n",
    "\n",
    "for x in datalist:\n",
    "    if x % 2 == 0:\n",
    "        newlist.append(x)\n",
    "        \n",
    "print(newlist)"
   ]
  },
  {
   "cell_type": "raw",
   "metadata": {},
   "source": [
    "    3. Write a program to create a function show_feu_professor() using the following conditions:\n",
    "\n",
    "        >It should accept the professor’s name and salary and display both.\n",
    "        >If the salary is missing in the function call then assign default value 70000 to salary"
   ]
  },
  {
   "cell_type": "code",
   "execution_count": 14,
   "metadata": {},
   "outputs": [],
   "source": [
    "def show_feu_professor(Name,Salary=None):\n",
    "    if Salary == None:\n",
    "        Salary = 70000\n",
    "    print(\"\\n\\n\", Name)\n",
    "    print(\"\\t₱\", Salary)\n",
    "        "
   ]
  },
  {
   "cell_type": "code",
   "execution_count": 15,
   "metadata": {},
   "outputs": [
    {
     "name": "stdout",
     "output_type": "stream",
     "text": [
      "\n",
      "\n",
      " Mr. Andaya Edward\n",
      "\t₱ 83500\n",
      "\n",
      "\n",
      " Mr. Frederick Gella\n",
      "\t₱ 10000\n",
      "\n",
      "\n",
      " Mr. Harvey Ducay\n",
      "\t₱ 25000\n",
      "\n",
      "\n",
      " Ms. Joanna Eugenio\n",
      "\t₱ 70000\n",
      "\n",
      "\n",
      " Mr. Spike Lee-Roy Villasana Patayon\n",
      "\t₱ 90000\n"
     ]
    }
   ],
   "source": [
    "show_feu_professor(\"Mr. Andaya Edward\", 83500)\n",
    "show_feu_professor(\"Mr. Frederick Gella\", 10000)\n",
    "show_feu_professor(\"Mr. Harvey Ducay\", 25000)\n",
    "show_feu_professor(\"Ms. Joanna Eugenio\",)\n",
    "show_feu_professor(\"Mr. Spike Lee-Roy Villasana Patayon\", 90000)"
   ]
  }
 ],
 "metadata": {
  "kernelspec": {
   "display_name": "Python 3",
   "language": "python",
   "name": "python3"
  },
  "language_info": {
   "codemirror_mode": {
    "name": "ipython",
    "version": 3
   },
   "file_extension": ".py",
   "mimetype": "text/x-python",
   "name": "python",
   "nbconvert_exporter": "python",
   "pygments_lexer": "ipython3",
   "version": "3.7.0"
  }
 },
 "nbformat": 4,
 "nbformat_minor": 2
}
