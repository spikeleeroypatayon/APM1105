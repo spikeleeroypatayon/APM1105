{
 "cells": [
  {
   "cell_type": "markdown",
   "id": "3d6a7285",
   "metadata": {},
   "source": [
    "1. Create an exponent calculator using both iterations and recursion, with rendering time."
   ]
  },
  {
   "cell_type": "markdown",
   "id": "a7d68163",
   "metadata": {},
   "source": [
    "Using Iteration"
   ]
  },
  {
   "cell_type": "code",
   "execution_count": 52,
   "id": "db6db9b9",
   "metadata": {},
   "outputs": [
    {
     "name": "stdout",
     "output_type": "stream",
     "text": [
      "Enter the base: 10\n",
      "Enter the exponent: 2\n",
      "The answer from the given 10^2: 100\n",
      "The execution time for this method is: 0.00000 seconds\n",
      "\n"
     ]
    }
   ],
   "source": [
    "import time\n",
    "\n",
    "def iterative_function(base, exponent):\n",
    "    result = 1\n",
    "    for i in range(exponent):\n",
    "        result *= base\n",
    "    return result\n",
    "\n",
    "base = int(input(\"Enter the base: \"))\n",
    "exponent = int(input(\"Enter the exponent: \"))\n",
    "\n",
    "start_time = time.time()\n",
    "result_iterative = iterative_function(base, exponent)\n",
    "end_time = time.time()\n",
    "\n",
    "print(f\"The answer from the given {base}^{exponent}: {result_iterative}\")\n",
    "print(f\"The execution time for this method is: {end_time - start_time:.5f} seconds\\n\")\n"
   ]
  },
  {
   "cell_type": "markdown",
   "id": "5225d032",
   "metadata": {},
   "source": [
    "Using Recursion"
   ]
  },
  {
   "cell_type": "code",
   "execution_count": 53,
   "id": "3db82fdc",
   "metadata": {},
   "outputs": [
    {
     "name": "stdout",
     "output_type": "stream",
     "text": [
      "Enter the base: 10\n",
      "Enter the exponent: 2\n",
      "The answer from the give10^2: 100\n",
      "The execution time for this method is: 0.00000 seconds\n",
      "\n"
     ]
    }
   ],
   "source": [
    "def recursive_function(base, exponent):\n",
    "    if exponent == 0:\n",
    "        return 1\n",
    "    else:\n",
    "        return base * recursive_function(base, exponent-1)\n",
    "    \n",
    "base = int(input(\"Enter the base: \"))\n",
    "exponent = int(input(\"Enter the exponent: \"))\n",
    "    \n",
    "start_time = time.time()\n",
    "result_recursive = recursive_function(base, exponent)\n",
    "end_time = time.time()\n",
    "\n",
    "print(f\"The answer from the give{base}^{exponent}: {result_recursive}\")\n",
    "print(f\"The execution time for this method is: {end_time - start_time:.5f} seconds\\n\")\n",
    "\n"
   ]
  },
  {
   "cell_type": "markdown",
   "id": "f5b89f8e",
   "metadata": {},
   "source": [
    "Which of the two functions performs faster? And why is it performing faster?\n",
    "\n",
    "The function iterative_function is expected to be faster than the function recursive_function when the exponent value is small. This is because iterative_function performs a constant number of multiplication operations based on the exponent, while recursive_function performs a variable number of multiplication operations based on the exponent value.\n",
    "\n",
    "On the other hand, when the exponent value is large, the recursive_function may perform faster than iterative_function because it utilizes a divide-and-conquer approach, which reduces the number of multiplications needed to calculate the result. However, recursive_function has more overhead costs than iterative_function, such as function call overhead and additional memory usage for the recursive call stack, which makes it less efficient in general."
   ]
  },
  {
   "cell_type": "markdown",
   "id": "2a2b1712",
   "metadata": {},
   "source": [
    "2. Iteratively and recursively calculate the sum of the first n powers of 2, along with the rendering time of each function using the time module."
   ]
  },
  {
   "cell_type": "markdown",
   "id": "456f4375",
   "metadata": {},
   "source": [
    "Using Iteration"
   ]
  },
  {
   "cell_type": "code",
   "execution_count": 28,
   "id": "0a754ae6",
   "metadata": {},
   "outputs": [
    {
     "name": "stdout",
     "output_type": "stream",
     "text": [
      "Enter a value for n: 20\n",
      "The answer from the given 20 is: 1048575.\n",
      "The execution time is : 0.0 seconds.\n"
     ]
    }
   ],
   "source": [
    "import time\n",
    "\n",
    "def interative_power(n):\n",
    "    start_time = time.time()\n",
    "    power_sum = 0\n",
    "    for i in range(n):\n",
    "        power_sum += 2**i\n",
    "    end_time = time.time()\n",
    "    execution_time = end_time - start_time\n",
    "    return power_sum, rendering_time\n",
    "\n",
    "n = int(input(\"Enter a value for n: \"))\n",
    "power_sum, execution_time= interative_power(n)\n",
    "print(f\"The answer from the given {n} is: {power_sum}.\"\")\n",
    "print(f\"The execution time is : {execution_time} seconds.\")\n",
    "\n"
   ]
  },
  {
   "cell_type": "markdown",
   "id": "3966c9ec",
   "metadata": {},
   "source": [
    "Using Recursion"
   ]
  },
  {
   "cell_type": "code",
   "execution_count": 45,
   "id": "eed34909",
   "metadata": {},
   "outputs": [
    {
     "name": "stdout",
     "output_type": "stream",
     "text": [
      "Enter a value for n: 20\n",
      "The answer from the given 20 is: 1048575.\n",
      "The execution time for this method is: 0.0 seconds.\n"
     ]
    }
   ],
   "source": [
    "import time\n",
    "\n",
    "def recursive_power(n):\n",
    "    start_time = time.time()\n",
    "    if n == 0:\n",
    "        return 0, time.time() - start_time\n",
    "    else:\n",
    "        result, execution_time = recursive_power(n-1)\n",
    "        result += 2**(n-1)\n",
    "        end_time = time.time()\n",
    "        execution_time += end_time - start_time\n",
    "        return result, execution_time\n",
    "    \n",
    "n = int(input(\"Enter a value for n: \"))\n",
    "recursive_result, recursive_execution_time = recursive_power(n)\n",
    "print(f\"The answer from the given {n} is: {recursive_result}.\")\n",
    "print(f\"The execution time for this method is: {recursive_execution_time} seconds.\")\n",
    "\n"
   ]
  },
  {
   "cell_type": "markdown",
   "id": "88557a59",
   "metadata": {},
   "source": [
    "Which of the two functions performs faster? And why is it performing faster?\n",
    "\n",
    "The second function, \"recursive_power\", is executing at a slower pace compared to the first function, \"iterative_power\". The primary reason for this difference is the recursive function is making multiple function calls for every value of n, which is taking additional time because of function call overhead. Besides, the recursive function is performing more operations than the iterative function. The recursive function first recursively adds the powers of 2 up to n-1 and then adds 2**(n-1) to the sum. On the other hand, the iterative function directly adds 2**i to the sum in each iteration."
   ]
  },
  {
   "cell_type": "code",
   "execution_count": null,
   "id": "dde5d86e",
   "metadata": {},
   "outputs": [],
   "source": []
  }
 ],
 "metadata": {
  "kernelspec": {
   "display_name": "Python 3 (ipykernel)",
   "language": "python",
   "name": "python3"
  },
  "language_info": {
   "codemirror_mode": {
    "name": "ipython",
    "version": 3
   },
   "file_extension": ".py",
   "mimetype": "text/x-python",
   "name": "python",
   "nbconvert_exporter": "python",
   "pygments_lexer": "ipython3",
   "version": "3.9.13"
  }
 },
 "nbformat": 4,
 "nbformat_minor": 5
}
