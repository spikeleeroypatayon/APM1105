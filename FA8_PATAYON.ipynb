{
 "cells": [
  {
   "cell_type": "code",
   "execution_count": 9,
   "id": "caec8a5e",
   "metadata": {},
   "outputs": [],
   "source": [
    "import numpy as np\n",
    "import scipy as sp\n",
    "import pandas as pd\n",
    "import matplotlib as mpl\n",
    "import seaborn as sns\n"
   ]
  },
  {
   "cell_type": "code",
   "execution_count": 69,
   "id": "cd3e72d7",
   "metadata": {},
   "outputs": [
    {
     "data": {
      "text/html": [
       "<div>\n",
       "<style scoped>\n",
       "    .dataframe tbody tr th:only-of-type {\n",
       "        vertical-align: middle;\n",
       "    }\n",
       "\n",
       "    .dataframe tbody tr th {\n",
       "        vertical-align: top;\n",
       "    }\n",
       "\n",
       "    .dataframe thead th {\n",
       "        text-align: right;\n",
       "    }\n",
       "</style>\n",
       "<table border=\"1\" class=\"dataframe\">\n",
       "  <thead>\n",
       "    <tr style=\"text-align: right;\">\n",
       "      <th></th>\n",
       "      <th>rank</th>\n",
       "      <th>discipline</th>\n",
       "      <th>phd</th>\n",
       "      <th>service</th>\n",
       "      <th>sex</th>\n",
       "      <th>salary</th>\n",
       "    </tr>\n",
       "  </thead>\n",
       "  <tbody>\n",
       "    <tr>\n",
       "      <th>0</th>\n",
       "      <td>Prof</td>\n",
       "      <td>B</td>\n",
       "      <td>56</td>\n",
       "      <td>49</td>\n",
       "      <td>Male</td>\n",
       "      <td>186960</td>\n",
       "    </tr>\n",
       "    <tr>\n",
       "      <th>1</th>\n",
       "      <td>Prof</td>\n",
       "      <td>A</td>\n",
       "      <td>12</td>\n",
       "      <td>6</td>\n",
       "      <td>Male</td>\n",
       "      <td>93000</td>\n",
       "    </tr>\n",
       "    <tr>\n",
       "      <th>2</th>\n",
       "      <td>Prof</td>\n",
       "      <td>A</td>\n",
       "      <td>23</td>\n",
       "      <td>20</td>\n",
       "      <td>Male</td>\n",
       "      <td>110515</td>\n",
       "    </tr>\n",
       "    <tr>\n",
       "      <th>3</th>\n",
       "      <td>Prof</td>\n",
       "      <td>A</td>\n",
       "      <td>40</td>\n",
       "      <td>31</td>\n",
       "      <td>Male</td>\n",
       "      <td>131205</td>\n",
       "    </tr>\n",
       "    <tr>\n",
       "      <th>4</th>\n",
       "      <td>Prof</td>\n",
       "      <td>B</td>\n",
       "      <td>20</td>\n",
       "      <td>18</td>\n",
       "      <td>Male</td>\n",
       "      <td>104800</td>\n",
       "    </tr>\n",
       "    <tr>\n",
       "      <th>...</th>\n",
       "      <td>...</td>\n",
       "      <td>...</td>\n",
       "      <td>...</td>\n",
       "      <td>...</td>\n",
       "      <td>...</td>\n",
       "      <td>...</td>\n",
       "    </tr>\n",
       "    <tr>\n",
       "      <th>73</th>\n",
       "      <td>Prof</td>\n",
       "      <td>B</td>\n",
       "      <td>18</td>\n",
       "      <td>10</td>\n",
       "      <td>Female</td>\n",
       "      <td>105450</td>\n",
       "    </tr>\n",
       "    <tr>\n",
       "      <th>74</th>\n",
       "      <td>AssocProf</td>\n",
       "      <td>B</td>\n",
       "      <td>19</td>\n",
       "      <td>6</td>\n",
       "      <td>Female</td>\n",
       "      <td>104542</td>\n",
       "    </tr>\n",
       "    <tr>\n",
       "      <th>75</th>\n",
       "      <td>Prof</td>\n",
       "      <td>B</td>\n",
       "      <td>17</td>\n",
       "      <td>17</td>\n",
       "      <td>Female</td>\n",
       "      <td>124312</td>\n",
       "    </tr>\n",
       "    <tr>\n",
       "      <th>76</th>\n",
       "      <td>Prof</td>\n",
       "      <td>A</td>\n",
       "      <td>28</td>\n",
       "      <td>14</td>\n",
       "      <td>Female</td>\n",
       "      <td>109954</td>\n",
       "    </tr>\n",
       "    <tr>\n",
       "      <th>77</th>\n",
       "      <td>Prof</td>\n",
       "      <td>A</td>\n",
       "      <td>23</td>\n",
       "      <td>15</td>\n",
       "      <td>Female</td>\n",
       "      <td>109646</td>\n",
       "    </tr>\n",
       "  </tbody>\n",
       "</table>\n",
       "<p>78 rows × 6 columns</p>\n",
       "</div>"
      ],
      "text/plain": [
       "         rank discipline  phd  service     sex  salary\n",
       "0        Prof          B   56       49    Male  186960\n",
       "1        Prof          A   12        6    Male   93000\n",
       "2        Prof          A   23       20    Male  110515\n",
       "3        Prof          A   40       31    Male  131205\n",
       "4        Prof          B   20       18    Male  104800\n",
       "..        ...        ...  ...      ...     ...     ...\n",
       "73       Prof          B   18       10  Female  105450\n",
       "74  AssocProf          B   19        6  Female  104542\n",
       "75       Prof          B   17       17  Female  124312\n",
       "76       Prof          A   28       14  Female  109954\n",
       "77       Prof          A   23       15  Female  109646\n",
       "\n",
       "[78 rows x 6 columns]"
      ]
     },
     "execution_count": 69,
     "metadata": {},
     "output_type": "execute_result"
    }
   ],
   "source": [
    "link = \"https://raw.githubusercontent.com/Apress/data-analysis-and-visualization-using-python/master/Ch07/Salaries.csv\"\n",
    "data = pd.read_csv(link)\n",
    "\n",
    "#dislay the data given\n",
    "df.head(78)"
   ]
  },
  {
   "cell_type": "markdown",
   "id": "b65970e8",
   "metadata": {},
   "source": [
    "## Calculate for the overall descriptive statistic of the given data "
   ]
  },
  {
   "cell_type": "code",
   "execution_count": 64,
   "id": "22e47775",
   "metadata": {},
   "outputs": [
    {
     "name": "stdout",
     "output_type": "stream",
     "text": [
      "Valid data for each column:\n",
      " rank          78\n",
      "discipline    78\n",
      "phd           78\n",
      "service       78\n",
      "sex           78\n",
      "salary        78\n",
      "dtype: int64\n"
     ]
    }
   ],
   "source": [
    "# Calculate for the number of valid values for each column\n",
    "valid_data = data.count()\n",
    "print(\"Valid data for each column:\\n\", valid_data)"
   ]
  },
  {
   "cell_type": "code",
   "execution_count": 34,
   "id": "2bff9d59",
   "metadata": {},
   "outputs": [
    {
     "name": "stdout",
     "output_type": "stream",
     "text": [
      "Missing value:\n",
      " rank          0\n",
      "discipline    0\n",
      "phd           0\n",
      "service       0\n",
      "sex           0\n",
      "salary        0\n",
      "dtype: int64\n"
     ]
    }
   ],
   "source": [
    "# Calculate the number of missing or null values for each column\n",
    "missing_value = data.isnull().sum()\n",
    "print(\"Missing value:\\n\", missing_value)"
   ]
  },
  {
   "cell_type": "code",
   "execution_count": 36,
   "id": "cfdfb602",
   "metadata": {},
   "outputs": [
    {
     "name": "stdout",
     "output_type": "stream",
     "text": [
      "Median: 104671.0\n"
     ]
    }
   ],
   "source": [
    "# Calculate the median\n",
    "median = np.median(data['salary'])\n",
    "print(\"Median:\", median)\n"
   ]
  },
  {
   "cell_type": "code",
   "execution_count": 39,
   "id": "ae11e454",
   "metadata": {},
   "outputs": [
    {
     "name": "stdout",
     "output_type": "stream",
     "text": [
      "Mean: 108023.78205128205\n"
     ]
    }
   ],
   "source": [
    "# Calculate the mean\n",
    "mean = np.mean(data['salary'])\n",
    "print(\"Mean:\",mean)"
   ]
  },
  {
   "cell_type": "code",
   "execution_count": 45,
   "id": "5770811d",
   "metadata": {},
   "outputs": [
    {
     "name": "stdout",
     "output_type": "stream",
     "text": [
      "Std. Error of Mean: 3183.023946914264\n"
     ]
    }
   ],
   "source": [
    "# Calculate the standard error of the mean for each column\n",
    "std_error_mean = np.std(data['salary']) / np.sqrt(len(data))\n",
    "print(\"Std. Error of Mean:\", std_error_mean)"
   ]
  },
  {
   "cell_type": "code",
   "execution_count": 51,
   "id": "ed2c9990",
   "metadata": {},
   "outputs": [
    {
     "name": "stdout",
     "output_type": "stream",
     "text": [
      "Std. Deviation: 28111.706330941804\n"
     ]
    }
   ],
   "source": [
    "# Calculate the standard deviation for each column\n",
    "std_deviation = np.std(data['salary'])\n",
    "print(\"Std. Deviation:\", std_deviation)\n",
    "      "
   ]
  },
  {
   "cell_type": "code",
   "execution_count": 52,
   "id": "7fe4e51c",
   "metadata": {},
   "outputs": [
    {
     "name": "stdout",
     "output_type": "stream",
     "text": [
      "Coefficient of variation: 0.306273676294872\n"
     ]
    }
   ],
   "source": [
    "# Calculate the coefficient of variation for each column      \n",
    "coefficient_of_variation = std_deviation / mean\n",
    "print(\"Coefficient of variation:\", coefficient_of_variation)"
   ]
  },
  {
   "cell_type": "code",
   "execution_count": 57,
   "id": "3dd3e899",
   "metadata": {},
   "outputs": [
    {
     "name": "stdout",
     "output_type": "stream",
     "text": [
      "Skewness: 0.45210256755588096\n"
     ]
    }
   ],
   "source": [
    "# Calculate the skewness for each column      \n",
    "skewness = data['salary'].skew()\n",
    "print(\"Skewness:\", skewness)\n"
   ]
  },
  {
   "cell_type": "code",
   "execution_count": 65,
   "id": "9954a2b0",
   "metadata": {},
   "outputs": [
    {
     "name": "stdout",
     "output_type": "stream",
     "text": [
      "Std. Error of Skewness: -0.006429417421711643\n"
     ]
    }
   ],
   "source": [
    "# Calculate the standard error of skewness for each column      \n",
    "std_error_skewness = data['salary'].apply(np.log).skew() / np.sqrt(len(data))\n",
    "print(\"Std. Error of Skewness:\", std_error_skewness)"
   ]
  },
  {
   "cell_type": "code",
   "execution_count": 59,
   "id": "82890dc4",
   "metadata": {},
   "outputs": [
    {
     "name": "stdout",
     "output_type": "stream",
     "text": [
      "Kurtosis: -0.4017126758820546\n"
     ]
    }
   ],
   "source": [
    "# Calculate the kurtosis for each column      \n",
    "kurtosis = data['salary'].kurt()\n",
    "print(\"Kurtosis:\", kurtosis)"
   ]
  },
  {
   "cell_type": "code",
   "execution_count": 61,
   "id": "81f09ec1",
   "metadata": {},
   "outputs": [
    {
     "name": "stdout",
     "output_type": "stream",
     "text": [
      "Std. Error of Kurtosis: 0.5547001962252291\n"
     ]
    }
   ],
   "source": [
    "# Calculate the standard error of kurtosis for each column      \n",
    "std_error_kurtosis = np.sqrt(24 / len(data))\n",
    "print(\"Std. Error of Kurtosis:\", std_error_kurtosis)"
   ]
  },
  {
   "cell_type": "code",
   "execution_count": 61,
   "id": "57c11ea2",
   "metadata": {},
   "outputs": [
    {
     "name": "stdout",
     "output_type": "stream",
     "text": [
      "Minimum: 57800\n"
     ]
    }
   ],
   "source": [
    "# Calculate the minimum value for each column      \n",
    "minimum = np.min(data['salary'])\n",
    "print(\"Minimum:\", minimum)      \n",
    "   "
   ]
  },
  {
   "cell_type": "code",
   "execution_count": 62,
   "id": "90bb07a1",
   "metadata": {},
   "outputs": [
    {
     "name": "stdout",
     "output_type": "stream",
     "text": [
      "Maximum: 186960\n"
     ]
    }
   ],
   "source": [
    "# Calculate the maximum value for each column\n",
    "maximum = np.max(data['salary'])\n",
    "print(\"Maximum:\", maximum)\n",
    "      "
   ]
  },
  {
   "cell_type": "code",
   "execution_count": 55,
   "id": "1c715634",
   "metadata": {},
   "outputs": [
    {
     "name": "stdout",
     "output_type": "stream",
     "text": [
      "10th percentile: 73440.0\n",
      "20th percentile: 79190.0\n",
      "30th percentile: 91120.0\n",
      "40th percentile: 98940.8\n",
      "50th percentile: 104671.0\n",
      "60th percentile: 110066.2\n",
      "70th percentile: 122904.0\n",
      "80th percentile: 130323.0\n",
      "90th percentile: 150486.0\n",
      "25th percentile: 88612.5\n",
      "50th percentile: 104671.0\n",
      "75th percentile: 126774.75\n"
     ]
    }
   ],
   "source": [
    "# Calculate for all percentile      \n",
    "percentiles = np.percentile(data['salary'], [10, 20, 30, 40, 50, 60, 70, 80, 90, 25, 50, 75])\n",
    "print(\"10th percentile:\", percentiles[0])\n",
    "print(\"20th percentile:\", percentiles[1])\n",
    "print(\"30th percentile:\", percentiles[2])\n",
    "print(\"40th percentile:\", percentiles[3])\n",
    "print(\"50th percentile:\", percentiles[4])\n",
    "print(\"60th percentile:\", percentiles[5])\n",
    "print(\"70th percentile:\", percentiles[6])\n",
    "print(\"80th percentile:\", percentiles[7])\n",
    "print(\"90th percentile:\", percentiles[8])\n",
    "print(\"25th percentile:\", percentiles[9])\n",
    "print(\"50th percentile:\", percentiles[10])\n",
    "print(\"75th percentile:\", percentiles[11])"
   ]
  },
  {
   "cell_type": "markdown",
   "id": "9d790025",
   "metadata": {},
   "source": [
    "## Now, We will find the descriptive statistic for AssocProf"
   ]
  },
  {
   "cell_type": "code",
   "execution_count": 63,
   "id": "04a973ad",
   "metadata": {},
   "outputs": [],
   "source": [
    "link = \"https://raw.githubusercontent.com/Apress/data-analysis-and-visualization-using-python/master/Ch07/Salaries.csv\"\n",
    "data = pd.read_csv(link)\n",
    "\n",
    "#separate the data by rank\n",
    "rank1_data = data[data['rank'] == 'AssocProf']\n",
    "\n"
   ]
  },
  {
   "cell_type": "code",
   "execution_count": 64,
   "id": "34cb665b",
   "metadata": {},
   "outputs": [
    {
     "name": "stdout",
     "output_type": "stream",
     "text": [
      "Valid count:\n",
      " rank          13\n",
      "discipline    13\n",
      "phd           13\n",
      "service       13\n",
      "sex           13\n",
      "salary        13\n",
      "dtype: int64\n"
     ]
    }
   ],
   "source": [
    "valid_count = rank1_data.count()\n",
    "print(\"Valid data for each column:\\n\", valid_count)"
   ]
  },
  {
   "cell_type": "code",
   "execution_count": 65,
   "id": "7fb95bfc",
   "metadata": {},
   "outputs": [
    {
     "name": "stdout",
     "output_type": "stream",
     "text": [
      "Missing count:\n",
      " rank          0\n",
      "discipline    0\n",
      "phd           0\n",
      "service       0\n",
      "sex           0\n",
      "salary        0\n",
      "dtype: int64\n"
     ]
    }
   ],
   "source": [
    "missing_count = rank1_data.isnull().sum()\n",
    "print(\"Missing count:\\n\", missing_count)"
   ]
  },
  {
   "cell_type": "code",
   "execution_count": 66,
   "id": "bae839db",
   "metadata": {},
   "outputs": [
    {
     "name": "stdout",
     "output_type": "stream",
     "text": [
      "Median: 103613.0\n"
     ]
    }
   ],
   "source": [
    "median = np.median(rank1_data['salary'])\n",
    "print(\"Median:\", median)"
   ]
  },
  {
   "cell_type": "code",
   "execution_count": 67,
   "id": "b527f71f",
   "metadata": {},
   "outputs": [
    {
     "name": "stdout",
     "output_type": "stream",
     "text": [
      "Mean: 91786.23076923077\n"
     ]
    }
   ],
   "source": [
    "mean = np.mean(rank1_data['salary'])\n",
    "print(\"Mean:\", mean)"
   ]
  },
  {
   "cell_type": "code",
   "execution_count": 68,
   "id": "156beda1",
   "metadata": {},
   "outputs": [
    {
     "name": "stdout",
     "output_type": "stream",
     "text": [
      "Std. Error of Mean: 4948.651345956037\n"
     ]
    }
   ],
   "source": [
    "std_error_mean = np.std(rank1_data['salary']) / np.sqrt(len(rank1_data))\n",
    "print(\"Std. Error of Mean:\", std_error_mean)"
   ]
  },
  {
   "cell_type": "code",
   "execution_count": 69,
   "id": "cc211f0a",
   "metadata": {},
   "outputs": [
    {
     "name": "stdout",
     "output_type": "stream",
     "text": [
      "Std. Deviation: 17842.616172238377\n"
     ]
    }
   ],
   "source": [
    "std_deviation = np.std(rank1_data['salary'])\n",
    "print(\"Std. Deviation:\", std_deviation)"
   ]
  },
  {
   "cell_type": "code",
   "execution_count": 70,
   "id": "52d7a164",
   "metadata": {},
   "outputs": [
    {
     "name": "stdout",
     "output_type": "stream",
     "text": [
      "Coefficient of variation: 0.19439316793712053\n"
     ]
    }
   ],
   "source": [
    "coefficient_of_variation = std_deviation / mean\n",
    "print(\"Coefficient of variation:\", coefficient_of_variation)"
   ]
  },
  {
   "cell_type": "code",
   "execution_count": 71,
   "id": "6a76a202",
   "metadata": {},
   "outputs": [
    {
     "name": "stdout",
     "output_type": "stream",
     "text": [
      "Skewness: -0.15119975197172433\n"
     ]
    }
   ],
   "source": [
    "skewness = rank1_data['salary'].skew()\n",
    "print(\"Skewness:\", skewness)"
   ]
  },
  {
   "cell_type": "code",
   "execution_count": null,
   "id": "0dcae10b",
   "metadata": {},
   "outputs": [],
   "source": [
    "std_error_skewness = rank1_data['salary'].apply(np.log).skew() / np.sqrt(len(rank1_data))\n",
    "print(\"Std. Error of Skewness:\", std_error_skewness)"
   ]
  },
  {
   "cell_type": "code",
   "execution_count": 80,
   "id": "f0417881",
   "metadata": {},
   "outputs": [
    {
     "name": "stdout",
     "output_type": "stream",
     "text": [
      "Kurtosis: -1.614148500974565\n"
     ]
    }
   ],
   "source": [
    "kurtosis = rank1_data['salary'].kurt()\n",
    "print(\"Kurtosis:\", kurtosis)"
   ]
  },
  {
   "cell_type": "code",
   "execution_count": 81,
   "id": "c59b2646",
   "metadata": {},
   "outputs": [
    {
     "name": "stdout",
     "output_type": "stream",
     "text": [
      "Std. Error of Kurtosis: 1.3587324409735149\n"
     ]
    }
   ],
   "source": [
    "std_error_kurtosis = np.sqrt(24 / len(rank1_data))\n",
    "print(\"Std. Error of Kurtosis:\", std_error_kurtosis)"
   ]
  },
  {
   "cell_type": "code",
   "execution_count": 83,
   "id": "df694c14",
   "metadata": {},
   "outputs": [
    {
     "name": "stdout",
     "output_type": "stream",
     "text": [
      "Minimum: 62884\n"
     ]
    }
   ],
   "source": [
    "minimum = np.min(rank1_data['salary'])\n",
    "print(\"Minimum:\", minimum)"
   ]
  },
  {
   "cell_type": "code",
   "execution_count": 72,
   "id": "06e93099",
   "metadata": {},
   "outputs": [
    {
     "name": "stdout",
     "output_type": "stream",
     "text": [
      "Maximum: 119800\n"
     ]
    }
   ],
   "source": [
    "maximum = np.max(rank1_data['salary'])\n",
    "print(\"Maximum:\", maximum)"
   ]
  },
  {
   "cell_type": "code",
   "execution_count": 86,
   "id": "de02800e",
   "metadata": {},
   "outputs": [
    {
     "name": "stdout",
     "output_type": "stream",
     "text": [
      "10th percentile: 71512.0\n",
      "20th percentile: 73912.0\n",
      "30th percentile: 76432.0\n",
      "40th percentile: 80528.0\n",
      "50th percentile: 103613.0\n",
      "60th percentile: 103798.8\n",
      "70th percentile: 104213.2\n",
      "80th percentile: 106021.6\n",
      "90th percentile: 109121.6\n",
      "25th percentile: 74830.0\n",
      "50th percentile: 103613.0\n",
      "75th percentile: 104542.0\n"
     ]
    }
   ],
   "source": [
    "percentiles = np.percentile(rank1_data['salary'], [10, 20, 30, 40, 50, 60, 70, 80, 90, 25, 50, 75])\n",
    "\n",
    "print(\"10th percentile:\", percentiles[0])\n",
    "print(\"20th percentile:\", percentiles[1])\n",
    "print(\"30th percentile:\", percentiles[2])\n",
    "print(\"40th percentile:\", percentiles[3])\n",
    "print(\"50th percentile:\", percentiles[4])\n",
    "print(\"60th percentile:\", percentiles[5])\n",
    "print(\"70th percentile:\", percentiles[6])\n",
    "print(\"80th percentile:\", percentiles[7])\n",
    "print(\"90th percentile:\", percentiles[8])\n",
    "print(\"25th percentile:\", percentiles[9])\n",
    "print(\"50th percentile:\", percentiles[10])\n",
    "print(\"75th percentile:\", percentiles[11])"
   ]
  },
  {
   "cell_type": "markdown",
   "id": "96a3a8f9",
   "metadata": {},
   "source": [
    "## Now, We will find the descriptive statistic for AsstProf"
   ]
  },
  {
   "cell_type": "code",
   "execution_count": 7,
   "id": "fcbde8b8",
   "metadata": {},
   "outputs": [],
   "source": [
    "import numpy as np\n",
    "import scipy as sp\n",
    "import pandas as pd\n",
    "import matplotlib as mpl\n",
    "import seaborn as sns\n",
    "\n",
    "link = \"https://raw.githubusercontent.com/Apress/data-analysis-and-visualization-using-python/master/Ch07/Salaries.csv\"\n",
    "data = pd.read_csv(link)\n",
    "\n",
    "#separate the data by rank\n",
    "rank2_data = data[data['rank'] == 'AsstProf']\n"
   ]
  },
  {
   "cell_type": "code",
   "execution_count": 73,
   "id": "bc9882e2",
   "metadata": {},
   "outputs": [
    {
     "name": "stdout",
     "output_type": "stream",
     "text": [
      "Valid count:\n",
      " rank          19\n",
      "discipline    19\n",
      "phd           19\n",
      "service       19\n",
      "sex           19\n",
      "salary        19\n",
      "dtype: int64\n"
     ]
    }
   ],
   "source": [
    "valid_count = rank2_data.count()\n",
    "print(\"Valid data for each column:\\n\", valid_count)"
   ]
  },
  {
   "cell_type": "code",
   "execution_count": 74,
   "id": "bb6d46c6",
   "metadata": {},
   "outputs": [
    {
     "name": "stdout",
     "output_type": "stream",
     "text": [
      "Missing count:\n",
      " rank          0\n",
      "discipline    0\n",
      "phd           0\n",
      "service       0\n",
      "sex           0\n",
      "salary        0\n",
      "dtype: int64\n"
     ]
    }
   ],
   "source": [
    "missing_count = rank2_data.isnull().sum()\n",
    "print(\"Missing count:\\n\", missing_count)"
   ]
  },
  {
   "cell_type": "code",
   "execution_count": 11,
   "id": "b1fe6be6",
   "metadata": {},
   "outputs": [
    {
     "name": "stdout",
     "output_type": "stream",
     "text": [
      "Median: 78500.0\n"
     ]
    }
   ],
   "source": [
    "median = np.median(rank2_data['salary'])\n",
    "print(\"Median:\", median)"
   ]
  },
  {
   "cell_type": "code",
   "execution_count": 13,
   "id": "2893212e",
   "metadata": {},
   "outputs": [
    {
     "name": "stdout",
     "output_type": "stream",
     "text": [
      "Mean: 81362.78947368421\n"
     ]
    }
   ],
   "source": [
    "mean = np.mean(rank2_data['salary'])\n",
    "print(\"Mean:\", mean)"
   ]
  },
  {
   "cell_type": "code",
   "execution_count": 21,
   "id": "23b2b114",
   "metadata": {},
   "outputs": [
    {
     "name": "stdout",
     "output_type": "stream",
     "text": [
      "Std. Error of Mean: 2094.8027899946183\n"
     ]
    }
   ],
   "source": [
    "std_error_mean = np.std(rank2_data['salary']) / np.sqrt(len(rank2_data))\n",
    "print(\"Std. Error of Mean:\", std_error_mean)"
   ]
  },
  {
   "cell_type": "code",
   "execution_count": 39,
   "id": "d2335bb7",
   "metadata": {},
   "outputs": [
    {
     "name": "stdout",
     "output_type": "stream",
     "text": [
      "Std. Deviation: 9131.033668233598\n"
     ]
    }
   ],
   "source": [
    "std_deviation = np.std(rank2_data['salary'])\n",
    "print(\"Std. Deviation:\", std_deviation)"
   ]
  },
  {
   "cell_type": "code",
   "execution_count": 22,
   "id": "2f03f124",
   "metadata": {},
   "outputs": [
    {
     "name": "stdout",
     "output_type": "stream",
     "text": [
      "Coefficient of variation: 0.11222616293394068\n"
     ]
    }
   ],
   "source": [
    "coefficient_of_variation = std_deviation / mean\n",
    "print(\"Coefficient of variation:\", coefficient_of_variation)"
   ]
  },
  {
   "cell_type": "code",
   "execution_count": 27,
   "id": "156323ab",
   "metadata": {},
   "outputs": [
    {
     "name": "stdout",
     "output_type": "stream",
     "text": [
      "Skewness: 0.030503748722733107\n"
     ]
    }
   ],
   "source": [
    "skewness = rank2_data['salary'].skew()\n",
    "print(\"Skewness:\", skewness)"
   ]
  },
  {
   "cell_type": "code",
   "execution_count": 46,
   "id": "dd90c325",
   "metadata": {},
   "outputs": [
    {
     "name": "stdout",
     "output_type": "stream",
     "text": [
      "Std. Error of Skewness: -0.03734447792073725\n"
     ]
    }
   ],
   "source": [
    "std_error_skewness = rank2_data['salary'].apply(np.log).skew() / np.sqrt(len(rank2_data))\n",
    "print(\"Std. Error of Skewness:\", std_error_skewness)"
   ]
  },
  {
   "cell_type": "code",
   "execution_count": null,
   "id": "89ff5ff0",
   "metadata": {},
   "outputs": [],
   "source": [
    "kurtosis = rank2_data['salary'].kurt()\n",
    "print(\"Kurtosis:\", kurtosis)"
   ]
  },
  {
   "cell_type": "code",
   "execution_count": 75,
   "id": "261fc998",
   "metadata": {},
   "outputs": [
    {
     "name": "stdout",
     "output_type": "stream",
     "text": [
      "Std. Error of Kurtosis: 1.1239029738980326\n"
     ]
    }
   ],
   "source": [
    "std_error_kurtosis = np.sqrt(24 / len(rank2_data))\n",
    "print(\"Std. Error of Kurtosis:\", std_error_kurtosis)"
   ]
  },
  {
   "cell_type": "code",
   "execution_count": 30,
   "id": "97dfff05",
   "metadata": {},
   "outputs": [
    {
     "name": "stdout",
     "output_type": "stream",
     "text": [
      "Minimum: 63100\n"
     ]
    }
   ],
   "source": [
    "minimum = np.min(rank2_data['salary'])\n",
    "print(\"Minimum:\", minimum)"
   ]
  },
  {
   "cell_type": "code",
   "execution_count": 25,
   "id": "a400ac5e",
   "metadata": {},
   "outputs": [
    {
     "name": "stdout",
     "output_type": "stream",
     "text": [
      "Maximum: 97032\n"
     ]
    }
   ],
   "source": [
    "maximum = np.max(rank2_data['salary'])\n",
    "print(\"Maximum:\", maximum)"
   ]
  },
  {
   "cell_type": "code",
   "execution_count": 24,
   "id": "aad174ea",
   "metadata": {},
   "outputs": [
    {
     "name": "stdout",
     "output_type": "stream",
     "text": [
      "10th percentile: 72500.0\n",
      "20th percentile: 73300.0\n",
      "30th percentile: 74832.8\n",
      "40th percentile: 77100.0\n",
      "50th percentile: 78500.0\n",
      "60th percentile: 84045.0\n",
      "70th percentile: 89800.0\n",
      "80th percentile: 91580.0\n",
      "90th percentile: 92000.0\n",
      "25th percentile: 74096.0\n",
      "50th percentile: 78500.0\n",
      "75th percentile: 91150.0\n"
     ]
    }
   ],
   "source": [
    "percentiles = np.percentile(rank2_data['salary'], [10, 20, 30, 40, 50, 60, 70, 80, 90, 25, 50, 75])\n",
    "\n",
    "print(\"10th percentile:\", percentiles[0])\n",
    "print(\"20th percentile:\", percentiles[1])\n",
    "print(\"30th percentile:\", percentiles[2])\n",
    "print(\"40th percentile:\", percentiles[3])\n",
    "print(\"50th percentile:\", percentiles[4])\n",
    "print(\"60th percentile:\", percentiles[5])\n",
    "print(\"70th percentile:\", percentiles[6])\n",
    "print(\"80th percentile:\", percentiles[7])\n",
    "print(\"90th percentile:\", percentiles[8])\n",
    "print(\"25th percentile:\", percentiles[9])\n",
    "print(\"50th percentile:\", percentiles[10])\n",
    "print(\"75th percentile:\", percentiles[11])"
   ]
  },
  {
   "cell_type": "markdown",
   "id": "2c0f003e",
   "metadata": {},
   "source": [
    "## Now, We will find the descriptive statistic for Prof"
   ]
  },
  {
   "cell_type": "code",
   "execution_count": 31,
   "id": "312829a3",
   "metadata": {},
   "outputs": [],
   "source": [
    "import numpy as np\n",
    "import scipy as sp\n",
    "import pandas as pd\n",
    "import matplotlib as mpl\n",
    "import seaborn as sns\n",
    "\n",
    "link = \"https://raw.githubusercontent.com/Apress/data-analysis-and-visualization-using-python/master/Ch07/Salaries.csv\"\n",
    "data = pd.read_csv(link)\n",
    "\n",
    "#separate the data by rank\n",
    "rank3_data = data[data['rank'] == 'Prof']\n"
   ]
  },
  {
   "cell_type": "code",
   "execution_count": 33,
   "id": "3789aa7e",
   "metadata": {},
   "outputs": [
    {
     "name": "stdout",
     "output_type": "stream",
     "text": [
      "Valid count:\n",
      " rank          46\n",
      "discipline    46\n",
      "phd           46\n",
      "service       46\n",
      "sex           46\n",
      "salary        46\n",
      "dtype: int64\n"
     ]
    }
   ],
   "source": [
    "valid_count = rank3_data.count()\n",
    "print(\"Valid data for each column:\\n\", valid_count)"
   ]
  },
  {
   "cell_type": "code",
   "execution_count": 76,
   "id": "3760a1a5",
   "metadata": {},
   "outputs": [
    {
     "name": "stdout",
     "output_type": "stream",
     "text": [
      "Missing count:\n",
      " rank          0\n",
      "discipline    0\n",
      "phd           0\n",
      "service       0\n",
      "sex           0\n",
      "salary        0\n",
      "dtype: int64\n"
     ]
    }
   ],
   "source": [
    "missing_count = rank3_data.isnull().sum()\n",
    "print(\"Missing count:\\n\", missing_count)"
   ]
  },
  {
   "cell_type": "code",
   "execution_count": 35,
   "id": "b9ae2b10",
   "metadata": {},
   "outputs": [
    {
     "name": "stdout",
     "output_type": "stream",
     "text": [
      "Median: 123321.5\n"
     ]
    }
   ],
   "source": [
    "median = np.median(rank3_data['salary'])\n",
    "print(\"Median:\", median)"
   ]
  },
  {
   "cell_type": "code",
   "execution_count": 36,
   "id": "410f49c2",
   "metadata": {},
   "outputs": [
    {
     "name": "stdout",
     "output_type": "stream",
     "text": [
      "Mean: 123624.80434782608\n"
     ]
    }
   ],
   "source": [
    "mean = np.mean(rank3_data['salary'])\n",
    "print(\"Mean:\", mean)"
   ]
  },
  {
   "cell_type": "code",
   "execution_count": 38,
   "id": "19636eb8",
   "metadata": {},
   "outputs": [
    {
     "name": "stdout",
     "output_type": "stream",
     "text": [
      "Std. Error of Mean: 3623.9304065231213\n"
     ]
    }
   ],
   "source": [
    "std_error_mean = np.std(rank3_data['salary']) / np.sqrt(len(rank3_data))\n",
    "print(\"Std. Error of Mean:\", std_error_mean)"
   ]
  },
  {
   "cell_type": "code",
   "execution_count": 42,
   "id": "1f58bcfd",
   "metadata": {},
   "outputs": [
    {
     "name": "stdout",
     "output_type": "stream",
     "text": [
      "Std. Deviation: 24578.691852921107\n"
     ]
    }
   ],
   "source": [
    "std_deviation = np.std(rank3_data['salary'])\n",
    "print(\"Std. Deviation:\", std_deviation)"
   ]
  },
  {
   "cell_type": "code",
   "execution_count": 43,
   "id": "50adc326",
   "metadata": {},
   "outputs": [
    {
     "name": "stdout",
     "output_type": "stream",
     "text": [
      "Coefficient of variation: 0.198816831157665\n"
     ]
    }
   ],
   "source": [
    "coefficient_of_variation = std_deviation / mean\n",
    "print(\"Coefficient of variation:\", coefficient_of_variation)"
   ]
  },
  {
   "cell_type": "code",
   "execution_count": 44,
   "id": "3fd930d5",
   "metadata": {},
   "outputs": [
    {
     "name": "stdout",
     "output_type": "stream",
     "text": [
      "Skewness: 0.07030880414867173\n"
     ]
    }
   ],
   "source": [
    "skewness = rank3_data['salary'].skew()\n",
    "print(\"Skewness:\", skewness)"
   ]
  },
  {
   "cell_type": "code",
   "execution_count": 47,
   "id": "2d9d9340",
   "metadata": {},
   "outputs": [
    {
     "name": "stdout",
     "output_type": "stream",
     "text": [
      "Std. Error of Skewness: -0.10967329991091015\n"
     ]
    }
   ],
   "source": [
    "std_error_skewness = rank3_data['salary'].apply(np.log).skew() / np.sqrt(len(rank3_data))\n",
    "print(\"Std. Error of Skewness:\", std_error_skewness)"
   ]
  },
  {
   "cell_type": "code",
   "execution_count": 48,
   "id": "9e4169ff",
   "metadata": {},
   "outputs": [
    {
     "name": "stdout",
     "output_type": "stream",
     "text": [
      "Kurtosis: 0.20133870835405743\n"
     ]
    }
   ],
   "source": [
    "kurtosis = rank3_data['salary'].kurt()\n",
    "print(\"Kurtosis:\", kurtosis)"
   ]
  },
  {
   "cell_type": "code",
   "execution_count": 49,
   "id": "5f1519a0",
   "metadata": {},
   "outputs": [
    {
     "name": "stdout",
     "output_type": "stream",
     "text": [
      "Std. Error of Kurtosis: 0.7223151185146152\n"
     ]
    }
   ],
   "source": [
    "std_error_kurtosis = np.sqrt(24 / len(rank3_data))\n",
    "print(\"Std. Error of Kurtosis:\", std_error_kurtosis)"
   ]
  },
  {
   "cell_type": "code",
   "execution_count": 50,
   "id": "40cd84f5",
   "metadata": {},
   "outputs": [
    {
     "name": "stdout",
     "output_type": "stream",
     "text": [
      "Minimum: 57800\n"
     ]
    }
   ],
   "source": [
    "minimum = np.min(rank3_data['salary'])\n",
    "print(\"Minimum:\", minimum)"
   ]
  },
  {
   "cell_type": "code",
   "execution_count": 51,
   "id": "80223905",
   "metadata": {},
   "outputs": [
    {
     "name": "stdout",
     "output_type": "stream",
     "text": [
      "Maximum: 186960\n"
     ]
    }
   ],
   "source": [
    "maximum = np.max(rank3_data['salary'])\n",
    "print(\"Maximum:\", maximum)"
   ]
  },
  {
   "cell_type": "code",
   "execution_count": 53,
   "id": "1fdd4753",
   "metadata": {},
   "outputs": [
    {
     "name": "stdout",
     "output_type": "stream",
     "text": [
      "10th percentile: 93675.0\n",
      "20th percentile: 103275.0\n",
      "30th percentile: 108473.0\n",
      "40th percentile: 116450.0\n",
      "50th percentile: 123321.5\n",
      "60th percentile: 127512.0\n",
      "70th percentile: 135889.0\n",
      "80th percentile: 148750.0\n",
      "90th percentile: 154750.0\n",
      "25th percentile: 105112.5\n",
      "50th percentile: 123321.5\n",
      "75th percentile: 143512.25\n"
     ]
    }
   ],
   "source": [
    "percentiles = np.percentile(rank3_data['salary'], [10, 20, 30, 40, 50, 60, 70, 80, 90, 25, 50, 75])\n",
    "\n",
    "print(\"10th percentile:\", percentiles[0])\n",
    "print(\"20th percentile:\", percentiles[1])\n",
    "print(\"30th percentile:\", percentiles[2])\n",
    "print(\"40th percentile:\", percentiles[3])\n",
    "print(\"50th percentile:\", percentiles[4])\n",
    "print(\"60th percentile:\", percentiles[5])\n",
    "print(\"70th percentile:\", percentiles[6])\n",
    "print(\"80th percentile:\", percentiles[7])\n",
    "print(\"90th percentile:\", percentiles[8])\n",
    "print(\"25th percentile:\", percentiles[9])\n",
    "print(\"50th percentile:\", percentiles[10])\n",
    "print(\"75th percentile:\", percentiles[11])"
   ]
  },
  {
   "cell_type": "code",
   "execution_count": null,
   "id": "8fe7f416",
   "metadata": {},
   "outputs": [],
   "source": []
  }
 ],
 "metadata": {
  "kernelspec": {
   "display_name": "Python 3 (ipykernel)",
   "language": "python",
   "name": "python3"
  },
  "language_info": {
   "codemirror_mode": {
    "name": "ipython",
    "version": 3
   },
   "file_extension": ".py",
   "mimetype": "text/x-python",
   "name": "python",
   "nbconvert_exporter": "python",
   "pygments_lexer": "ipython3",
   "version": "3.9.13"
  }
 },
 "nbformat": 4,
 "nbformat_minor": 5
}
