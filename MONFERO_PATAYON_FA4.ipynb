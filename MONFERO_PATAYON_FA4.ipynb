{
 "cells": [
  {
   "cell_type": "markdown",
   "metadata": {},
   "source": [
    "Write a function named ack that evaluates the Ackermann function. Use your function to evaluate ack(2,4). What happens for larger values of m and n?"
   ]
  },
  {
   "cell_type": "code",
   "execution_count": 8,
   "metadata": {},
   "outputs": [
    {
     "name": "stdout",
     "output_type": "stream",
     "text": [
      "11\n"
     ]
    }
   ],
   "source": [
    "def ack(m, n):\n",
    "    if m == 0:\n",
    "        return n + 1\n",
    "    elif n == 0:\n",
    "        return ack(m - 1, 1)\n",
    "    else:\n",
    "        return ack(m - 1, ack(m, n - 1))\n",
    "\n",
    "    \n",
    "print(ack(2,4))\n",
    "\n"
   ]
  },
  {
   "cell_type": "code",
   "execution_count": 9,
   "metadata": {},
   "outputs": [
    {
     "name": "stdout",
     "output_type": "stream",
     "text": [
      "input value for m: 2\n",
      "input value for n: 4\n",
      "11\n"
     ]
    }
   ],
   "source": [
    "m=int(input(\"input value for m: \"))\n",
    "n=int(input(\"input value for n: \"))\n",
    "\n",
    "print(ack(m,n))"
   ]
  },
  {
   "cell_type": "markdown",
   "metadata": {},
   "source": [
    "for larger values of m and n, as per recursive, the larger the values of m and n the longer the process of evaluating of the value."
   ]
  }
 ],
 "metadata": {
  "kernelspec": {
   "display_name": "Python 3",
   "language": "python",
   "name": "python3"
  },
  "language_info": {
   "codemirror_mode": {
    "name": "ipython",
    "version": 3
   },
   "file_extension": ".py",
   "mimetype": "text/x-python",
   "name": "python",
   "nbconvert_exporter": "python",
   "pygments_lexer": "ipython3",
   "version": "3.7.0"
  }
 },
 "nbformat": 4,
 "nbformat_minor": 2
}
