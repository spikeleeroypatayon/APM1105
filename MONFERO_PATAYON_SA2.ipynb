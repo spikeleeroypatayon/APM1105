{
 "cells": [
  {
   "cell_type": "markdown",
   "metadata": {},
   "source": [
    "# Summative Assessment 2 in Python"
   ]
  },
  {
   "cell_type": "code",
   "execution_count": 2,
   "metadata": {},
   "outputs": [],
   "source": [
    "#This code block was designated to import some neccessary modules\n",
    "\n",
    "import pandas as pd\n",
    "import numpy as np\n",
    "import chardet\n",
    "import matplotlib.pyplot as plt"
   ]
  },
  {
   "cell_type": "markdown",
   "metadata": {},
   "source": [
    "### Context\n",
    "Forest fires are a serious problem for the preservation of the Tropical Forests. Understanding the frequency of forest fires in a time series can help to take action to prevent them.\n",
    "\n",
    "Brazil has the largest rainforest on the planet that is the Amazon rainforest.\n",
    "\n",
    "### Content\n",
    "This dataset reports the number of forest fires in Brazil divided by states. The series comprises the period of approximately 10 years (1998 to 2017). The data were obtained from the official website of the Brazilian government."
   ]
  },
  {
   "cell_type": "code",
   "execution_count": 3,
   "metadata": {},
   "outputs": [
    {
     "data": {
      "text/html": [
       "<div>\n",
       "<style scoped>\n",
       "    .dataframe tbody tr th:only-of-type {\n",
       "        vertical-align: middle;\n",
       "    }\n",
       "\n",
       "    .dataframe tbody tr th {\n",
       "        vertical-align: top;\n",
       "    }\n",
       "\n",
       "    .dataframe thead th {\n",
       "        text-align: right;\n",
       "    }\n",
       "</style>\n",
       "<table border=\"1\" class=\"dataframe\">\n",
       "  <thead>\n",
       "    <tr style=\"text-align: right;\">\n",
       "      <th></th>\n",
       "      <th>year</th>\n",
       "      <th>state</th>\n",
       "      <th>month</th>\n",
       "      <th>number</th>\n",
       "      <th>date</th>\n",
       "    </tr>\n",
       "  </thead>\n",
       "  <tbody>\n",
       "    <tr>\n",
       "      <th>0</th>\n",
       "      <td>1998</td>\n",
       "      <td>Acre</td>\n",
       "      <td>Janeiro</td>\n",
       "      <td>0.0</td>\n",
       "      <td>01/01/1998</td>\n",
       "    </tr>\n",
       "    <tr>\n",
       "      <th>1</th>\n",
       "      <td>1999</td>\n",
       "      <td>Acre</td>\n",
       "      <td>Janeiro</td>\n",
       "      <td>0.0</td>\n",
       "      <td>01/01/1999</td>\n",
       "    </tr>\n",
       "    <tr>\n",
       "      <th>2</th>\n",
       "      <td>2000</td>\n",
       "      <td>Acre</td>\n",
       "      <td>Janeiro</td>\n",
       "      <td>0.0</td>\n",
       "      <td>01/01/2000</td>\n",
       "    </tr>\n",
       "    <tr>\n",
       "      <th>3</th>\n",
       "      <td>2001</td>\n",
       "      <td>Acre</td>\n",
       "      <td>Janeiro</td>\n",
       "      <td>0.0</td>\n",
       "      <td>01/01/2001</td>\n",
       "    </tr>\n",
       "    <tr>\n",
       "      <th>4</th>\n",
       "      <td>2002</td>\n",
       "      <td>Acre</td>\n",
       "      <td>Janeiro</td>\n",
       "      <td>0.0</td>\n",
       "      <td>01/01/2002</td>\n",
       "    </tr>\n",
       "    <tr>\n",
       "      <th>...</th>\n",
       "      <td>...</td>\n",
       "      <td>...</td>\n",
       "      <td>...</td>\n",
       "      <td>...</td>\n",
       "      <td>...</td>\n",
       "    </tr>\n",
       "    <tr>\n",
       "      <th>6449</th>\n",
       "      <td>2012</td>\n",
       "      <td>Tocantins</td>\n",
       "      <td>Dezembro</td>\n",
       "      <td>128.0</td>\n",
       "      <td>01/01/2012</td>\n",
       "    </tr>\n",
       "    <tr>\n",
       "      <th>6450</th>\n",
       "      <td>2013</td>\n",
       "      <td>Tocantins</td>\n",
       "      <td>Dezembro</td>\n",
       "      <td>85.0</td>\n",
       "      <td>01/01/2013</td>\n",
       "    </tr>\n",
       "    <tr>\n",
       "      <th>6451</th>\n",
       "      <td>2014</td>\n",
       "      <td>Tocantins</td>\n",
       "      <td>Dezembro</td>\n",
       "      <td>223.0</td>\n",
       "      <td>01/01/2014</td>\n",
       "    </tr>\n",
       "    <tr>\n",
       "      <th>6452</th>\n",
       "      <td>2015</td>\n",
       "      <td>Tocantins</td>\n",
       "      <td>Dezembro</td>\n",
       "      <td>373.0</td>\n",
       "      <td>01/01/2015</td>\n",
       "    </tr>\n",
       "    <tr>\n",
       "      <th>6453</th>\n",
       "      <td>2016</td>\n",
       "      <td>Tocantins</td>\n",
       "      <td>Dezembro</td>\n",
       "      <td>119.0</td>\n",
       "      <td>01/01/2016</td>\n",
       "    </tr>\n",
       "  </tbody>\n",
       "</table>\n",
       "<p>6454 rows × 5 columns</p>\n",
       "</div>"
      ],
      "text/plain": [
       "      year      state     month  number        date\n",
       "0     1998       Acre   Janeiro     0.0  01/01/1998\n",
       "1     1999       Acre   Janeiro     0.0  01/01/1999\n",
       "2     2000       Acre   Janeiro     0.0  01/01/2000\n",
       "3     2001       Acre   Janeiro     0.0  01/01/2001\n",
       "4     2002       Acre   Janeiro     0.0  01/01/2002\n",
       "...    ...        ...       ...     ...         ...\n",
       "6449  2012  Tocantins  Dezembro   128.0  01/01/2012\n",
       "6450  2013  Tocantins  Dezembro    85.0  01/01/2013\n",
       "6451  2014  Tocantins  Dezembro   223.0  01/01/2014\n",
       "6452  2015  Tocantins  Dezembro   373.0  01/01/2015\n",
       "6453  2016  Tocantins  Dezembro   119.0  01/01/2016\n",
       "\n",
       "[6454 rows x 5 columns]"
      ]
     },
     "execution_count": 3,
     "metadata": {},
     "output_type": "execute_result"
    }
   ],
   "source": [
    "with open(\"amazon.csv\", \"rb\") as f:\n",
    "    #Through chardet, we can automatically detects the specific \"encoding\" needed to decode and export dataset\n",
    "    result = chardet.detect(f.read()) \n",
    "\n",
    "pd.read_csv(\"amazon.csv\", encoding=result[\"encoding\"])"
   ]
  },
  {
   "cell_type": "markdown",
   "metadata": {},
   "source": [
    "### (1) Display the first 10 rows of the DataFrame"
   ]
  },
  {
   "cell_type": "code",
   "execution_count": 3,
   "metadata": {},
   "outputs": [
    {
     "data": {
      "text/html": [
       "<div>\n",
       "<style scoped>\n",
       "    .dataframe tbody tr th:only-of-type {\n",
       "        vertical-align: middle;\n",
       "    }\n",
       "\n",
       "    .dataframe tbody tr th {\n",
       "        vertical-align: top;\n",
       "    }\n",
       "\n",
       "    .dataframe thead th {\n",
       "        text-align: right;\n",
       "    }\n",
       "</style>\n",
       "<table border=\"1\" class=\"dataframe\">\n",
       "  <thead>\n",
       "    <tr style=\"text-align: right;\">\n",
       "      <th></th>\n",
       "      <th>year</th>\n",
       "      <th>state</th>\n",
       "      <th>month</th>\n",
       "      <th>number</th>\n",
       "      <th>date</th>\n",
       "    </tr>\n",
       "  </thead>\n",
       "  <tbody>\n",
       "    <tr>\n",
       "      <th>0</th>\n",
       "      <td>1998</td>\n",
       "      <td>Acre</td>\n",
       "      <td>Janeiro</td>\n",
       "      <td>0.0</td>\n",
       "      <td>1998-01-01</td>\n",
       "    </tr>\n",
       "    <tr>\n",
       "      <th>1</th>\n",
       "      <td>1999</td>\n",
       "      <td>Acre</td>\n",
       "      <td>Janeiro</td>\n",
       "      <td>0.0</td>\n",
       "      <td>1999-01-01</td>\n",
       "    </tr>\n",
       "    <tr>\n",
       "      <th>2</th>\n",
       "      <td>2000</td>\n",
       "      <td>Acre</td>\n",
       "      <td>Janeiro</td>\n",
       "      <td>0.0</td>\n",
       "      <td>2000-01-01</td>\n",
       "    </tr>\n",
       "    <tr>\n",
       "      <th>3</th>\n",
       "      <td>2001</td>\n",
       "      <td>Acre</td>\n",
       "      <td>Janeiro</td>\n",
       "      <td>0.0</td>\n",
       "      <td>2001-01-01</td>\n",
       "    </tr>\n",
       "    <tr>\n",
       "      <th>4</th>\n",
       "      <td>2002</td>\n",
       "      <td>Acre</td>\n",
       "      <td>Janeiro</td>\n",
       "      <td>0.0</td>\n",
       "      <td>2002-01-01</td>\n",
       "    </tr>\n",
       "    <tr>\n",
       "      <th>5</th>\n",
       "      <td>2003</td>\n",
       "      <td>Acre</td>\n",
       "      <td>Janeiro</td>\n",
       "      <td>10.0</td>\n",
       "      <td>2003-01-01</td>\n",
       "    </tr>\n",
       "    <tr>\n",
       "      <th>6</th>\n",
       "      <td>2004</td>\n",
       "      <td>Acre</td>\n",
       "      <td>Janeiro</td>\n",
       "      <td>0.0</td>\n",
       "      <td>2004-01-01</td>\n",
       "    </tr>\n",
       "    <tr>\n",
       "      <th>7</th>\n",
       "      <td>2005</td>\n",
       "      <td>Acre</td>\n",
       "      <td>Janeiro</td>\n",
       "      <td>12.0</td>\n",
       "      <td>2005-01-01</td>\n",
       "    </tr>\n",
       "    <tr>\n",
       "      <th>8</th>\n",
       "      <td>2006</td>\n",
       "      <td>Acre</td>\n",
       "      <td>Janeiro</td>\n",
       "      <td>4.0</td>\n",
       "      <td>2006-01-01</td>\n",
       "    </tr>\n",
       "    <tr>\n",
       "      <th>9</th>\n",
       "      <td>2007</td>\n",
       "      <td>Acre</td>\n",
       "      <td>Janeiro</td>\n",
       "      <td>0.0</td>\n",
       "      <td>2007-01-01</td>\n",
       "    </tr>\n",
       "  </tbody>\n",
       "</table>\n",
       "</div>"
      ],
      "text/plain": [
       "   year state    month  number        date\n",
       "0  1998  Acre  Janeiro     0.0  1998-01-01\n",
       "1  1999  Acre  Janeiro     0.0  1999-01-01\n",
       "2  2000  Acre  Janeiro     0.0  2000-01-01\n",
       "3  2001  Acre  Janeiro     0.0  2001-01-01\n",
       "4  2002  Acre  Janeiro     0.0  2002-01-01\n",
       "5  2003  Acre  Janeiro    10.0  2003-01-01\n",
       "6  2004  Acre  Janeiro     0.0  2004-01-01\n",
       "7  2005  Acre  Janeiro    12.0  2005-01-01\n",
       "8  2006  Acre  Janeiro     4.0  2006-01-01\n",
       "9  2007  Acre  Janeiro     0.0  2007-01-01"
      ]
     },
     "execution_count": 3,
     "metadata": {},
     "output_type": "execute_result"
    }
   ],
   "source": [
    "df = pd.read_csv(\"amazon.csv\", encoding=result[\"encoding\"])\n",
    "df.head(10)"
   ]
  },
  {
   "cell_type": "markdown",
   "metadata": {},
   "source": [
    "### (2) display the last 10 rows of the DataFrame"
   ]
  },
  {
   "cell_type": "code",
   "execution_count": 4,
   "metadata": {},
   "outputs": [
    {
     "data": {
      "text/html": [
       "<div>\n",
       "<style scoped>\n",
       "    .dataframe tbody tr th:only-of-type {\n",
       "        vertical-align: middle;\n",
       "    }\n",
       "\n",
       "    .dataframe tbody tr th {\n",
       "        vertical-align: top;\n",
       "    }\n",
       "\n",
       "    .dataframe thead th {\n",
       "        text-align: right;\n",
       "    }\n",
       "</style>\n",
       "<table border=\"1\" class=\"dataframe\">\n",
       "  <thead>\n",
       "    <tr style=\"text-align: right;\">\n",
       "      <th></th>\n",
       "      <th>year</th>\n",
       "      <th>state</th>\n",
       "      <th>month</th>\n",
       "      <th>number</th>\n",
       "      <th>date</th>\n",
       "    </tr>\n",
       "  </thead>\n",
       "  <tbody>\n",
       "    <tr>\n",
       "      <th>6444</th>\n",
       "      <td>2007</td>\n",
       "      <td>Tocantins</td>\n",
       "      <td>Dezembro</td>\n",
       "      <td>13.0</td>\n",
       "      <td>2007-01-01</td>\n",
       "    </tr>\n",
       "    <tr>\n",
       "      <th>6445</th>\n",
       "      <td>2008</td>\n",
       "      <td>Tocantins</td>\n",
       "      <td>Dezembro</td>\n",
       "      <td>7.0</td>\n",
       "      <td>2008-01-01</td>\n",
       "    </tr>\n",
       "    <tr>\n",
       "      <th>6446</th>\n",
       "      <td>2009</td>\n",
       "      <td>Tocantins</td>\n",
       "      <td>Dezembro</td>\n",
       "      <td>46.0</td>\n",
       "      <td>2009-01-01</td>\n",
       "    </tr>\n",
       "    <tr>\n",
       "      <th>6447</th>\n",
       "      <td>2010</td>\n",
       "      <td>Tocantins</td>\n",
       "      <td>Dezembro</td>\n",
       "      <td>72.0</td>\n",
       "      <td>2010-01-01</td>\n",
       "    </tr>\n",
       "    <tr>\n",
       "      <th>6448</th>\n",
       "      <td>2011</td>\n",
       "      <td>Tocantins</td>\n",
       "      <td>Dezembro</td>\n",
       "      <td>105.0</td>\n",
       "      <td>2011-01-01</td>\n",
       "    </tr>\n",
       "    <tr>\n",
       "      <th>6449</th>\n",
       "      <td>2012</td>\n",
       "      <td>Tocantins</td>\n",
       "      <td>Dezembro</td>\n",
       "      <td>128.0</td>\n",
       "      <td>2012-01-01</td>\n",
       "    </tr>\n",
       "    <tr>\n",
       "      <th>6450</th>\n",
       "      <td>2013</td>\n",
       "      <td>Tocantins</td>\n",
       "      <td>Dezembro</td>\n",
       "      <td>85.0</td>\n",
       "      <td>2013-01-01</td>\n",
       "    </tr>\n",
       "    <tr>\n",
       "      <th>6451</th>\n",
       "      <td>2014</td>\n",
       "      <td>Tocantins</td>\n",
       "      <td>Dezembro</td>\n",
       "      <td>223.0</td>\n",
       "      <td>2014-01-01</td>\n",
       "    </tr>\n",
       "    <tr>\n",
       "      <th>6452</th>\n",
       "      <td>2015</td>\n",
       "      <td>Tocantins</td>\n",
       "      <td>Dezembro</td>\n",
       "      <td>373.0</td>\n",
       "      <td>2015-01-01</td>\n",
       "    </tr>\n",
       "    <tr>\n",
       "      <th>6453</th>\n",
       "      <td>2016</td>\n",
       "      <td>Tocantins</td>\n",
       "      <td>Dezembro</td>\n",
       "      <td>119.0</td>\n",
       "      <td>2016-01-01</td>\n",
       "    </tr>\n",
       "  </tbody>\n",
       "</table>\n",
       "</div>"
      ],
      "text/plain": [
       "      year      state     month  number        date\n",
       "6444  2007  Tocantins  Dezembro    13.0  2007-01-01\n",
       "6445  2008  Tocantins  Dezembro     7.0  2008-01-01\n",
       "6446  2009  Tocantins  Dezembro    46.0  2009-01-01\n",
       "6447  2010  Tocantins  Dezembro    72.0  2010-01-01\n",
       "6448  2011  Tocantins  Dezembro   105.0  2011-01-01\n",
       "6449  2012  Tocantins  Dezembro   128.0  2012-01-01\n",
       "6450  2013  Tocantins  Dezembro    85.0  2013-01-01\n",
       "6451  2014  Tocantins  Dezembro   223.0  2014-01-01\n",
       "6452  2015  Tocantins  Dezembro   373.0  2015-01-01\n",
       "6453  2016  Tocantins  Dezembro   119.0  2016-01-01"
      ]
     },
     "execution_count": 4,
     "metadata": {},
     "output_type": "execute_result"
    }
   ],
   "source": [
    "df.tail(10)"
   ]
  },
  {
   "cell_type": "markdown",
   "metadata": {},
   "source": [
    "### (3) Display the shape of the DataFrame"
   ]
  },
  {
   "cell_type": "code",
   "execution_count": 73,
   "metadata": {},
   "outputs": [
    {
     "name": "stdout",
     "output_type": "stream",
     "text": [
      "Through shape attribute, we determined that the number of rows and columns are: (6454, 5)\n"
     ]
    }
   ],
   "source": [
    "print(\"Through shape attribute, we determined that the number of rows and columns are:\", df.shape)"
   ]
  },
  {
   "cell_type": "markdown",
   "metadata": {},
   "source": [
    "### (4) Get information about the dataset"
   ]
  },
  {
   "cell_type": "code",
   "execution_count": 5,
   "metadata": {},
   "outputs": [
    {
     "name": "stdout",
     "output_type": "stream",
     "text": [
      "<class 'pandas.core.frame.DataFrame'>\n",
      "RangeIndex: 6454 entries, 0 to 6453\n",
      "Data columns (total 5 columns):\n",
      " #   Column  Non-Null Count  Dtype  \n",
      "---  ------  --------------  -----  \n",
      " 0   year    6454 non-null   int64  \n",
      " 1   state   6454 non-null   object \n",
      " 2   month   6454 non-null   object \n",
      " 3   number  6454 non-null   float64\n",
      " 4   date    6454 non-null   object \n",
      "dtypes: float64(1), int64(1), object(3)\n",
      "memory usage: 252.2+ KB\n"
     ]
    }
   ],
   "source": [
    "#Through info attribute, we distinguish the needed data descriptions such as datatypes of each column and memory requirement.\n",
    "df.info()"
   ]
  },
  {
   "cell_type": "markdown",
   "metadata": {},
   "source": [
    "### (5) Check for duplicate data, and drop/highlight them"
   ]
  },
  {
   "cell_type": "code",
   "execution_count": 6,
   "metadata": {},
   "outputs": [
    {
     "name": "stdout",
     "output_type": "stream",
     "text": [
      "      year        state      month  number        date\n",
      "259   2017      Alagoas    Janeiro    38.0  2017-01-01\n",
      "2630  1998  Mato Grosso    Janeiro     0.0  1998-01-01\n",
      "2650  1998  Mato Grosso  Fevereiro     0.0  1998-01-01\n",
      "2670  1998  Mato Grosso      Março     0.0  1998-01-01\n",
      "2690  1998  Mato Grosso      Abril     0.0  1998-01-01\n",
      "2710  1998  Mato Grosso       Maio     0.0  1998-01-01\n",
      "3586  1998      Paraiba    Janeiro     0.0  1998-01-01\n",
      "3606  1998      Paraiba  Fevereiro     0.0  1998-01-01\n",
      "3621  2013      Paraiba  Fevereiro     9.0  2013-01-01\n",
      "3626  1998      Paraiba      Março     0.0  1998-01-01\n",
      "3646  1998      Paraiba      Abril     0.0  1998-01-01\n",
      "3666  1998      Paraiba       Maio     0.0  1998-01-01\n",
      "4542  1998          Rio    Janeiro     0.0  1998-01-01\n",
      "4562  1998          Rio  Fevereiro     0.0  1998-01-01\n",
      "4582  1998          Rio      Março     0.0  1998-01-01\n",
      "4585  2001          Rio      Março     0.0  2001-01-01\n",
      "4590  2006          Rio      Março     8.0  2006-01-01\n",
      "4602  1998          Rio      Abril     0.0  1998-01-01\n",
      "4608  2004          Rio      Abril     3.0  2004-01-01\n",
      "4613  2009          Rio      Abril     1.0  2009-01-01\n",
      "4622  1998          Rio       Maio     0.0  1998-01-01\n",
      "4631  2007          Rio       Maio     2.0  2007-01-01\n",
      "4632  2008          Rio       Maio     0.0  2008-01-01\n",
      "4645  2001          Rio      Junho    13.0  2001-01-01\n",
      "4781  1998          Rio    Janeiro     0.0  1998-01-01\n",
      "4800  2017          Rio    Janeiro    28.0  2017-01-01\n",
      "4801  1998          Rio  Fevereiro     0.0  1998-01-01\n",
      "4821  1998          Rio      Março     0.0  1998-01-01\n",
      "4841  1998          Rio      Abril     0.0  1998-01-01\n",
      "4861  1998          Rio       Maio     0.0  1998-01-01\n",
      "4864  2001          Rio       Maio     4.0  2001-01-01\n",
      "4910  2007          Rio      Julho     7.0  2007-01-01\n",
      "(32, 5) \n",
      "There are 32 rows which are duplicated\n"
     ]
    }
   ],
   "source": [
    "#Two things, we will check for duplicate rows through duplicated() method and assign these rows on a new dataFrame\n",
    "    #And then, through the shape attribute, we will know how many rows are there.\n",
    "# check for duplicate rows\n",
    "duplicate_rows = df.duplicated()\n",
    "print(df[duplicate_rows])\n",
    "\n",
    "print(df[duplicate_rows].shape, \"\\nThere are 32 rows which are duplicated\")"
   ]
  },
  {
   "cell_type": "markdown",
   "metadata": {},
   "source": [
    "### (6) Check whether there are some null values in the dataset"
   ]
  },
  {
   "cell_type": "code",
   "execution_count": 7,
   "metadata": {},
   "outputs": [
    {
     "name": "stdout",
     "output_type": "stream",
     "text": [
      "year      0\n",
      "state     0\n",
      "month     0\n",
      "number    0\n",
      "date      0\n",
      "dtype: int64\n",
      "Series([], dtype: bool)\n"
     ]
    }
   ],
   "source": [
    "#We will count if there is any information that is a null value, and then highlight these data\n",
    "\n",
    "null_counts = df.isnull().sum()\n",
    "print(null_counts)\n",
    "\n",
    "null_values = df.isnull().any()\n",
    "print(null_values[null_values == True])"
   ]
  },
  {
   "cell_type": "markdown",
   "metadata": {},
   "source": [
    "### (7) Get overall statistics about the DataFrame"
   ]
  },
  {
   "cell_type": "code",
   "execution_count": 8,
   "metadata": {},
   "outputs": [
    {
     "data": {
      "text/html": [
       "<div>\n",
       "<style scoped>\n",
       "    .dataframe tbody tr th:only-of-type {\n",
       "        vertical-align: middle;\n",
       "    }\n",
       "\n",
       "    .dataframe tbody tr th {\n",
       "        vertical-align: top;\n",
       "    }\n",
       "\n",
       "    .dataframe thead th {\n",
       "        text-align: right;\n",
       "    }\n",
       "</style>\n",
       "<table border=\"1\" class=\"dataframe\">\n",
       "  <thead>\n",
       "    <tr style=\"text-align: right;\">\n",
       "      <th></th>\n",
       "      <th>count</th>\n",
       "      <th>unique</th>\n",
       "      <th>top</th>\n",
       "      <th>freq</th>\n",
       "      <th>mean</th>\n",
       "      <th>std</th>\n",
       "      <th>min</th>\n",
       "      <th>25%</th>\n",
       "      <th>50%</th>\n",
       "      <th>75%</th>\n",
       "      <th>max</th>\n",
       "    </tr>\n",
       "  </thead>\n",
       "  <tbody>\n",
       "    <tr>\n",
       "      <th>year</th>\n",
       "      <td>6454.0</td>\n",
       "      <td>NaN</td>\n",
       "      <td>NaN</td>\n",
       "      <td>NaN</td>\n",
       "      <td>2007.461729</td>\n",
       "      <td>5.746654</td>\n",
       "      <td>1998.0</td>\n",
       "      <td>2002.0</td>\n",
       "      <td>2007.0</td>\n",
       "      <td>2012.0</td>\n",
       "      <td>2017.0</td>\n",
       "    </tr>\n",
       "    <tr>\n",
       "      <th>state</th>\n",
       "      <td>6454</td>\n",
       "      <td>23</td>\n",
       "      <td>Rio</td>\n",
       "      <td>717</td>\n",
       "      <td>NaN</td>\n",
       "      <td>NaN</td>\n",
       "      <td>NaN</td>\n",
       "      <td>NaN</td>\n",
       "      <td>NaN</td>\n",
       "      <td>NaN</td>\n",
       "      <td>NaN</td>\n",
       "    </tr>\n",
       "    <tr>\n",
       "      <th>month</th>\n",
       "      <td>6454</td>\n",
       "      <td>12</td>\n",
       "      <td>Janeiro</td>\n",
       "      <td>541</td>\n",
       "      <td>NaN</td>\n",
       "      <td>NaN</td>\n",
       "      <td>NaN</td>\n",
       "      <td>NaN</td>\n",
       "      <td>NaN</td>\n",
       "      <td>NaN</td>\n",
       "      <td>NaN</td>\n",
       "    </tr>\n",
       "    <tr>\n",
       "      <th>number</th>\n",
       "      <td>6454.0</td>\n",
       "      <td>NaN</td>\n",
       "      <td>NaN</td>\n",
       "      <td>NaN</td>\n",
       "      <td>108.293163</td>\n",
       "      <td>190.812242</td>\n",
       "      <td>0.0</td>\n",
       "      <td>3.0</td>\n",
       "      <td>24.0</td>\n",
       "      <td>113.0</td>\n",
       "      <td>998.0</td>\n",
       "    </tr>\n",
       "    <tr>\n",
       "      <th>date</th>\n",
       "      <td>6454</td>\n",
       "      <td>20</td>\n",
       "      <td>1998-01-01</td>\n",
       "      <td>324</td>\n",
       "      <td>NaN</td>\n",
       "      <td>NaN</td>\n",
       "      <td>NaN</td>\n",
       "      <td>NaN</td>\n",
       "      <td>NaN</td>\n",
       "      <td>NaN</td>\n",
       "      <td>NaN</td>\n",
       "    </tr>\n",
       "  </tbody>\n",
       "</table>\n",
       "</div>"
      ],
      "text/plain": [
       "         count unique         top freq         mean         std     min  \\\n",
       "year    6454.0    NaN         NaN  NaN  2007.461729    5.746654  1998.0   \n",
       "state     6454     23         Rio  717          NaN         NaN     NaN   \n",
       "month     6454     12     Janeiro  541          NaN         NaN     NaN   \n",
       "number  6454.0    NaN         NaN  NaN   108.293163  190.812242     0.0   \n",
       "date      6454     20  1998-01-01  324          NaN         NaN     NaN   \n",
       "\n",
       "           25%     50%     75%     max  \n",
       "year    2002.0  2007.0  2012.0  2017.0  \n",
       "state      NaN     NaN     NaN     NaN  \n",
       "month      NaN     NaN     NaN     NaN  \n",
       "number     3.0    24.0   113.0   998.0  \n",
       "date       NaN     NaN     NaN     NaN  "
      ]
     },
     "execution_count": 8,
     "metadata": {},
     "output_type": "execute_result"
    }
   ],
   "source": [
    "df.describe(include='all').T"
   ]
  },
  {
   "cell_type": "markdown",
   "metadata": {},
   "source": [
    "### (8) Rename month names into English"
   ]
  },
  {
   "cell_type": "code",
   "execution_count": 9,
   "metadata": {
    "scrolled": true
   },
   "outputs": [
    {
     "data": {
      "text/html": [
       "<div>\n",
       "<style scoped>\n",
       "    .dataframe tbody tr th:only-of-type {\n",
       "        vertical-align: middle;\n",
       "    }\n",
       "\n",
       "    .dataframe tbody tr th {\n",
       "        vertical-align: top;\n",
       "    }\n",
       "\n",
       "    .dataframe thead th {\n",
       "        text-align: right;\n",
       "    }\n",
       "</style>\n",
       "<table border=\"1\" class=\"dataframe\">\n",
       "  <thead>\n",
       "    <tr style=\"text-align: right;\">\n",
       "      <th></th>\n",
       "      <th>year</th>\n",
       "      <th>state</th>\n",
       "      <th>month</th>\n",
       "      <th>number</th>\n",
       "      <th>date</th>\n",
       "    </tr>\n",
       "  </thead>\n",
       "  <tbody>\n",
       "    <tr>\n",
       "      <th>0</th>\n",
       "      <td>1998</td>\n",
       "      <td>Acre</td>\n",
       "      <td>January</td>\n",
       "      <td>0.0</td>\n",
       "      <td>1998-01-01</td>\n",
       "    </tr>\n",
       "    <tr>\n",
       "      <th>1</th>\n",
       "      <td>1999</td>\n",
       "      <td>Acre</td>\n",
       "      <td>January</td>\n",
       "      <td>0.0</td>\n",
       "      <td>1999-01-01</td>\n",
       "    </tr>\n",
       "    <tr>\n",
       "      <th>2</th>\n",
       "      <td>2000</td>\n",
       "      <td>Acre</td>\n",
       "      <td>January</td>\n",
       "      <td>0.0</td>\n",
       "      <td>2000-01-01</td>\n",
       "    </tr>\n",
       "    <tr>\n",
       "      <th>3</th>\n",
       "      <td>2001</td>\n",
       "      <td>Acre</td>\n",
       "      <td>January</td>\n",
       "      <td>0.0</td>\n",
       "      <td>2001-01-01</td>\n",
       "    </tr>\n",
       "    <tr>\n",
       "      <th>4</th>\n",
       "      <td>2002</td>\n",
       "      <td>Acre</td>\n",
       "      <td>January</td>\n",
       "      <td>0.0</td>\n",
       "      <td>2002-01-01</td>\n",
       "    </tr>\n",
       "    <tr>\n",
       "      <th>...</th>\n",
       "      <td>...</td>\n",
       "      <td>...</td>\n",
       "      <td>...</td>\n",
       "      <td>...</td>\n",
       "      <td>...</td>\n",
       "    </tr>\n",
       "    <tr>\n",
       "      <th>6449</th>\n",
       "      <td>2012</td>\n",
       "      <td>Tocantins</td>\n",
       "      <td>December</td>\n",
       "      <td>128.0</td>\n",
       "      <td>2012-01-01</td>\n",
       "    </tr>\n",
       "    <tr>\n",
       "      <th>6450</th>\n",
       "      <td>2013</td>\n",
       "      <td>Tocantins</td>\n",
       "      <td>December</td>\n",
       "      <td>85.0</td>\n",
       "      <td>2013-01-01</td>\n",
       "    </tr>\n",
       "    <tr>\n",
       "      <th>6451</th>\n",
       "      <td>2014</td>\n",
       "      <td>Tocantins</td>\n",
       "      <td>December</td>\n",
       "      <td>223.0</td>\n",
       "      <td>2014-01-01</td>\n",
       "    </tr>\n",
       "    <tr>\n",
       "      <th>6452</th>\n",
       "      <td>2015</td>\n",
       "      <td>Tocantins</td>\n",
       "      <td>December</td>\n",
       "      <td>373.0</td>\n",
       "      <td>2015-01-01</td>\n",
       "    </tr>\n",
       "    <tr>\n",
       "      <th>6453</th>\n",
       "      <td>2016</td>\n",
       "      <td>Tocantins</td>\n",
       "      <td>December</td>\n",
       "      <td>119.0</td>\n",
       "      <td>2016-01-01</td>\n",
       "    </tr>\n",
       "  </tbody>\n",
       "</table>\n",
       "<p>6454 rows × 5 columns</p>\n",
       "</div>"
      ],
      "text/plain": [
       "      year      state     month  number        date\n",
       "0     1998       Acre   January     0.0  1998-01-01\n",
       "1     1999       Acre   January     0.0  1999-01-01\n",
       "2     2000       Acre   January     0.0  2000-01-01\n",
       "3     2001       Acre   January     0.0  2001-01-01\n",
       "4     2002       Acre   January     0.0  2002-01-01\n",
       "...    ...        ...       ...     ...         ...\n",
       "6449  2012  Tocantins  December   128.0  2012-01-01\n",
       "6450  2013  Tocantins  December    85.0  2013-01-01\n",
       "6451  2014  Tocantins  December   223.0  2014-01-01\n",
       "6452  2015  Tocantins  December   373.0  2015-01-01\n",
       "6453  2016  Tocantins  December   119.0  2016-01-01\n",
       "\n",
       "[6454 rows x 5 columns]"
      ]
     },
     "execution_count": 9,
     "metadata": {},
     "output_type": "execute_result"
    }
   ],
   "source": [
    "#By creating a dictionary, we assigned values on the each Portuguese months into its English counterparts\n",
    "month_BRA_to_ENG = {\n",
    "    \"Janeiro\": \"January\",\n",
    "    \"Fevereiro\": \"February\",\n",
    "    \"Março\": \"March\",\n",
    "    \"Abril\": \"April\",\n",
    "    \"Maio\": \"May\",\n",
    "    \"Junho\": \"June\",\n",
    "    \"Julho\": \"July\",\n",
    "    \"Agosto\": \"August\",\n",
    "    \"Setembro\": \"September\",\n",
    "    \"Outubro\": \"October\",\n",
    "    \"Novembro\": \"November\",\n",
    "    \"Dezembro\": \"December\"\n",
    "}\n",
    "df[\"month\"] = df[\"month\"].replace(month_BRA_to_ENG)\n",
    "df"
   ]
  },
  {
   "cell_type": "markdown",
   "metadata": {},
   "source": [
    "### (9) Get the total number of fires registered"
   ]
  },
  {
   "cell_type": "code",
   "execution_count": 10,
   "metadata": {},
   "outputs": [
    {
     "name": "stdout",
     "output_type": "stream",
     "text": [
      "Overall sum of fire incidents: 698924.073\n"
     ]
    }
   ],
   "source": [
    "overall_sum = df['number'].sum()\n",
    "print(\"Overall sum of fire incidents:\", overall_sum)"
   ]
  },
  {
   "cell_type": "markdown",
   "metadata": {},
   "source": [
    "### (10) In which month maximum number of forest fires were reported?"
   ]
  },
  {
   "cell_type": "code",
   "execution_count": 12,
   "metadata": {},
   "outputs": [
    {
     "data": {
      "text/plain": [
       "Text(0, 0.5, 'Number of Fire Incidents Registered')"
      ]
     },
     "execution_count": 12,
     "metadata": {},
     "output_type": "execute_result"
    },
    {
     "data": {
      "image/png": "[encoded data removed]",
      "text/plain": [
       "<Figure size 640x480 with 1 Axes>"
      ]
     },
     "metadata": {},
     "output_type": "display_data"
    }
   ],
   "source": [
    "# Create a dictionary to map month names to their corresponding numbers\n",
    "month_dict = {\n",
    "    'January': 1, \n",
    "    'February': 2, \n",
    "    'March': 3, \n",
    "    'April': 4, \n",
    "    'May': 5, \n",
    "    'June': 6,    \n",
    "    'July': 7, \n",
    "    'August': 8,\n",
    "    'September': 9, \n",
    "    'October': 10, \n",
    "    'November': 11, \n",
    "    'December': 12\n",
    "}\n",
    "df['Month_Number'] = df['month'].map(month_dict)\n",
    "fire_sum_by_month = df.groupby('Month_Number')['number'].sum()\n",
    "fire_sum_by_month = fire_sum_by_month.sort_index()\n",
    "\n",
    "fire_sum_by_month.plot.bar(x='Month', y='Number', rot=0)\n",
    "plt.title('Total Fires by Each Specific Month from 1998 - 2017')\n",
    "plt.xlabel('Month')\n",
    "plt.ylabel('Number of Fire Incidents Registered')"
   ]
  },
  {
   "cell_type": "markdown",
   "metadata": {},
   "source": [
    "#### This data significantly concludes that in the month of July, the maximum number of forest fires were reported"
   ]
  },
  {
   "cell_type": "markdown",
   "metadata": {},
   "source": [
    "### (11) In which year maximum number of forest fires was reported?"
   ]
  },
  {
   "cell_type": "code",
   "execution_count": 27,
   "metadata": {},
   "outputs": [
    {
     "data": {
      "image/png": "[encoded data removed]",
      "text/plain": [
       "<Figure size 1000x600 with 1 Axes>"
      ]
     },
     "metadata": {},
     "output_type": "display_data"
    },
    {
     "name": "stdout",
     "output_type": "stream",
     "text": [
      "Year with the most reported fire case: 2003\n"
     ]
    }
   ],
   "source": [
    "fire_year_df = df[(df['year'] >= 1998) & (df['year'] <= 2017)]\n",
    "\n",
    "year_sum = fire_year_df.groupby('year')['number'].sum().reset_index()\n",
    "max_year =year_sum.loc[year_sum['number'].idxmax(), 'year']\n",
    "\n",
    "\n",
    "\n",
    "plt.figure(figsize=(10, 6))\n",
    "plt.bar(year_sum['year'], year_sum['number'])\n",
    "\n",
    "\n",
    "max_index = year_sum['number'].idxmax()\n",
    "plt.bar(year_sum.loc[max_index, 'year'], year_sum.loc[max_index, 'number'], color='red')\n",
    "\n",
    "\n",
    "plt.xlabel('Year')\n",
    "plt.ylabel('Number of Reported Forest Fires')\n",
    "plt.title('Number of Reported Forest Fires by Year')\n",
    "plt.show()\n",
    "\n",
    "print(\"Year with the most reported fire case:\", max_year)\n"
   ]
  },
  {
   "cell_type": "markdown",
   "metadata": {},
   "source": [
    "### (12) In which state maximum number of forest fires was reported?"
   ]
  },
  {
   "cell_type": "code",
   "execution_count": 44,
   "metadata": {},
   "outputs": [
    {
     "data": {
      "image/png": "[encoded data removed]",
      "text/plain": [
       "<Figure size 640x480 with 1 Axes>"
      ]
     },
     "metadata": {},
     "output_type": "display_data"
    },
    {
     "name": "stdout",
     "output_type": "stream",
     "text": [
      "State with the maximum number of forest fires: Mato Grosso\n",
      "Number of forest fires in Mato Grosso: 96246.028\n"
     ]
    }
   ],
   "source": [
    "fires_state = df.groupby('state')['number'].sum().reset_index()\n",
    "\n",
    "max_state = fires_state.loc[fires_state['number'].idxmax(), 'state']\n",
    "max_fires = fires_state.loc[fires_state['number'].idxmax(), 'number']\n",
    "\n",
    "plt.bar(fires_by_state['state'], fires_state['number'])\n",
    "plt.xlabel('State')\n",
    "plt.ylabel('Number of Fires')\n",
    "plt.title('Number of Forest Fires by State')\n",
    "plt.xticks(rotation=90)\n",
    "plt.show()\n",
    "\n",
    "print(\"State with the maximum number of forest fires:\", max_state)\n",
    "print(\"Number of forest fires in\", max_state + \":\", max_fires)"
   ]
  },
  {
   "cell_type": "markdown",
   "metadata": {},
   "source": [
    "### (13) Find total number of fires were reported in Amazonas."
   ]
  },
  {
   "cell_type": "code",
   "execution_count": 46,
   "metadata": {},
   "outputs": [
    {
     "name": "stdout",
     "output_type": "stream",
     "text": [
      "Total number of fires reported in Amazonas: 30650.129\n"
     ]
    }
   ],
   "source": [
    "Amazonas_fires = df[df['state'] == 'Amazonas']['number'].sum()\n",
    "print(\"Total number of fires reported in Amazonas:\", Amazonas_fires)\n"
   ]
  },
  {
   "cell_type": "markdown",
   "metadata": {},
   "source": [
    "### (14) Display number of fires were reported in Amazonas (year-wise)."
   ]
  },
  {
   "cell_type": "code",
   "execution_count": 50,
   "metadata": {},
   "outputs": [
    {
     "name": "stdout",
     "output_type": "stream",
     "text": [
      "Number of fires reported in Amazonas (year-wise):\n",
      "Year: 1998 - Number of Fires: 946.0\n",
      "Year: 1999 - Number of Fires: 1061.0\n",
      "Year: 2000 - Number of Fires: 853.0\n",
      "Year: 2001 - Number of Fires: 1297.0\n",
      "Year: 2002 - Number of Fires: 2852.0\n",
      "Year: 2003 - Number of Fires: 1524.268\n",
      "Year: 2004 - Number of Fires: 2298.207\n",
      "Year: 2005 - Number of Fires: 1657.1280000000002\n",
      "Year: 2006 - Number of Fires: 997.64\n",
      "Year: 2007 - Number of Fires: 589.601\n",
      "Year: 2008 - Number of Fires: 2717.0\n",
      "Year: 2009 - Number of Fires: 1320.601\n",
      "Year: 2010 - Number of Fires: 2324.508\n",
      "Year: 2011 - Number of Fires: 1652.538\n",
      "Year: 2012 - Number of Fires: 1110.641\n",
      "Year: 2013 - Number of Fires: 905.217\n",
      "Year: 2014 - Number of Fires: 2385.909\n",
      "Year: 2015 - Number of Fires: 1189.9940000000001\n",
      "Year: 2016 - Number of Fires: 2060.9719999999998\n",
      "Year: 2017 - Number of Fires: 906.905\n"
     ]
    }
   ],
   "source": [
    "amazonas_fires = df[df['state'] == 'Amazonas']\n",
    "fires_year = amazonas_fires.groupby('year')['number'].sum()\n",
    "\n",
    "print(\"Number of fires reported in Amazonas (year-wise):\")\n",
    "for year, fires in fires_year.items():\n",
    "    print(\"Year:\", year, \"- Number of Fires:\", fires)\n"
   ]
  },
  {
   "cell_type": "markdown",
   "metadata": {},
   "source": [
    "### (15) Display number of fires were reported in Amazonas (day-wise)."
   ]
  },
  {
   "cell_type": "code",
   "execution_count": 51,
   "metadata": {},
   "outputs": [
    {
     "name": "stdout",
     "output_type": "stream",
     "text": [
      "          date    number\n",
      "0   1998-01-01   946.000\n",
      "1   1999-01-01  1061.000\n",
      "2   2000-01-01   853.000\n",
      "3   2001-01-01  1297.000\n",
      "4   2002-01-01  2852.000\n",
      "5   2003-01-01  1524.268\n",
      "6   2004-01-01  2298.207\n",
      "7   2005-01-01  1657.128\n",
      "8   2006-01-01   997.640\n",
      "9   2007-01-01   589.601\n",
      "10  2008-01-01  2717.000\n",
      "11  2009-01-01  1320.601\n",
      "12  2010-01-01  2324.508\n",
      "13  2011-01-01  1652.538\n",
      "14  2012-01-01  1110.641\n",
      "15  2013-01-01   905.217\n",
      "16  2014-01-01  2385.909\n",
      "17  2015-01-01  1189.994\n",
      "18  2016-01-01  2060.972\n",
      "19  2017-01-01   906.905\n"
     ]
    }
   ],
   "source": [
    "amazonas_fires = df[df['state'] == 'Amazonas']\n",
    "amazonas_day = amazonas_fires.groupby('date')['number'].sum().reset_index()\n",
    "print(amazonas_day)"
   ]
  },
  {
   "cell_type": "markdown",
   "metadata": {},
   "source": [
    "### (16) Find total number of fires were reported in 2015 and visualize data based on each ‘month’."
   ]
  },
  {
   "cell_type": "code",
   "execution_count": 71,
   "metadata": {},
   "outputs": [
    {
     "data": {
      "image/png": "[encoded data removed]",
      "text/plain": [
       "<Figure size 640x480 with 1 Axes>"
      ]
     },
     "metadata": {},
     "output_type": "display_data"
    },
    {
     "name": "stdout",
     "output_type": "stream",
     "text": [
      "Total number of fires reported in 2015: 41208.292\n"
     ]
    }
   ],
   "source": [
    "fire_2015 = df[df['year'] == 2015]\n",
    "\n",
    "monthly_2015 = fire_2015.groupby('month')['number'].sum().reset_index()\n",
    "\n",
    "plt.bar(monthly_2015['month'], monthly_2015['number'])\n",
    "plt.xlabel('Month')\n",
    "plt.ylabel('Number of Fires')\n",
    "plt.title('Number of Fires Reported Monthly in 2015')\n",
    "plt.xticks(rotation=90)\n",
    "plt.show()\n",
    "\n",
    "total_2015 = fire_2015['number'].sum()\n",
    "print(\"Total number of fires reported in 2015:\", total_2015)"
   ]
  },
  {
   "cell_type": "markdown",
   "metadata": {},
   "source": [
    "### (17) Find average number of fires were reported from highest to lowest (state-wise)."
   ]
  },
  {
   "cell_type": "code",
   "execution_count": 75,
   "metadata": {},
   "outputs": [
    {
     "name": "stdout",
     "output_type": "stream",
     "text": [
      "state\n",
      "Sao Paulo           213.896226\n",
      "Mato Grosso         201.351523\n",
      "Bahia               187.222703\n",
      "Piau                158.174674\n",
      "Goias               157.721841\n",
      "Minas Gerais        156.800243\n",
      "Tocantins           141.037176\n",
      "Amazonas            128.243218\n",
      "Ceara               127.314071\n",
      "Paraiba             109.698573\n",
      "Maranhao            105.142808\n",
      "Pará                102.561272\n",
      "Pernambuco          102.502092\n",
      "Roraima             102.029598\n",
      "Santa Catarina      101.924067\n",
      "Amapa                91.345506\n",
      "Rondonia             84.876272\n",
      "Acre                 77.255356\n",
      "Rio                  62.985865\n",
      "Espirito Santo       27.389121\n",
      "Alagoas              19.350000\n",
      "Distrito Federal     14.899582\n",
      "Sergipe              13.543933\n",
      "Name: number, dtype: float64\n"
     ]
    }
   ],
   "source": [
    "average_state = df.groupby('state')['number'].mean().sort_values(ascending=False)\n",
    "print(average_state)\n",
    "\n",
    "average_state = df.groupby('state')['number']"
   ]
  },
  {
   "cell_type": "markdown",
   "metadata": {},
   "source": [
    "### (18) Find the state names where fires were reported in 'dec' month."
   ]
  },
  {
   "cell_type": "code",
   "execution_count": 81,
   "metadata": {},
   "outputs": [
    {
     "name": "stdout",
     "output_type": "stream",
     "text": [
      "States where fires were reported in December:\n",
      "Acre\n",
      "Alagoas\n",
      "Amapa\n",
      "Amazonas\n",
      "Bahia\n",
      "Ceara\n",
      "Distrito Federal\n",
      "Espirito Santo\n",
      "Goias\n",
      "Maranhao\n",
      "Mato Grosso\n",
      "Minas Gerais\n",
      "Pará\n",
      "Paraiba\n",
      "Pernambuco\n",
      "Piau\n",
      "Rio\n",
      "Rondonia\n",
      "Roraima\n",
      "Santa Catarina\n",
      "Sao Paulo\n",
      "Sergipe\n",
      "Tocantins\n"
     ]
    }
   ],
   "source": [
    "fire_dec = df[df['month'] == 'December' ]['state'].unique()\n",
    "print(\"States where fires were reported in December:\")\n",
    "for state in fire_dec:\n",
    "    print(state)"
   ]
  },
  {
   "cell_type": "code",
   "execution_count": null,
   "metadata": {},
   "outputs": [],
   "source": []
  }
 ],
 "metadata": {
  "kernelspec": {
   "display_name": "Python 3 (ipykernel)",
   "language": "python",
   "name": "python3"
  },
  "language_info": {
   "codemirror_mode": {
    "name": "ipython",
    "version": 3
   },
   "file_extension": ".py",
   "mimetype": "text/x-python",
   "name": "python",
   "nbconvert_exporter": "python",
   "pygments_lexer": "ipython3",
   "version": "3.10.9"
  }
 },
 "nbformat": 4,
 "nbformat_minor": 2
}
