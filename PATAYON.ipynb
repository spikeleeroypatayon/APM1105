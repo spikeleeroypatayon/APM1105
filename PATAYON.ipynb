{
 "cells": [
  {
   "cell_type": "code",
   "execution_count": null,
   "metadata": {},
   "outputs": [],
   "source": [
    "miles = float(input(\"how many miles: \"))\n",
    "\n",
    "kilometer = miles * 1.61\n",
    "\n",
    "print(kilometer , \"kilometer\")\n",
    "\n",
    "\n",
    "\n",
    "kilometer = float(input(\"how many kilometer: \"))\n",
    "\n",
    "mile = kilometer * 0.621\n",
    "\n",
    "print(mile, \"mile\")"
   ]
  },
  {
   "cell_type": "code",
   "execution_count": null,
   "metadata": {},
   "outputs": [],
   "source": [
    "hr = float(input(\"how many hours: \"))\n",
    "minute_1 = 60 * hr\n",
    "minute_2 = float(input(\"how many minute: \"))\n",
    "seconds = float(input(\"how many seconds: \"))\n",
    "finaltime = seconds + (60 * (minute_1 + minute_2))\n",
    "print(finaltime, \"finaltime\")\n",
    "\n",
    "\n",
    "kilometer = float(input(\"how many kilometer: \"))\n",
    "\n",
    "mile = kilometer * 0.621\n",
    "\n",
    "print(mile, \"mile\")\n",
    "\n",
    "pace = minute_1 / miles\n",
    "\n",
    "mph = miles / hr\n",
    "\n",
    "\n",
    "\n"
   ]
  },
  {
   "cell_type": "code",
   "execution_count": null,
   "metadata": {},
   "outputs": [],
   "source": []
  }
 ],
 "metadata": {
  "kernelspec": {
   "display_name": "Python 3",
   "language": "python",
   "name": "python3"
  },
  "language_info": {
   "codemirror_mode": {
    "name": "ipython",
    "version": 3
   },
   "file_extension": ".py",
   "mimetype": "text/x-python",
   "name": "python",
   "nbconvert_exporter": "python",
   "pygments_lexer": "ipython3",
   "version": "3.7.0"
  }
 },
 "nbformat": 4,
 "nbformat_minor": 2
}
