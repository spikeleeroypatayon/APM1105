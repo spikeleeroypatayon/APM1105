{
 "cells": [
  {
   "cell_type": "markdown",
   "id": "534e9779",
   "metadata": {},
   "source": [
    "## The word guessing game"
   ]
  },
  {
   "cell_type": "code",
   "execution_count": 8,
   "id": "f5d5f5f4",
   "metadata": {},
   "outputs": [
    {
     "name": "stdout",
     "output_type": "stream",
     "text": [
      "Dataset saved to file.\n"
     ]
    }
   ],
   "source": [
    "import requests\n",
    "\n",
    "# URL of the raw dataset file on GitHub\n",
    "url = 'https://raw.githubusercontent.com/AllenDowney/ThinkPython2/master/code/words.txt'\n",
    "\n",
    "# Send a GET request to the URL\n",
    "response = requests.get(url)\n",
    "\n",
    "# Check if the request was successful\n",
    "if response.status_code == 200:\n",
    "    # Save the content of the response to a file\n",
    "    with open('words.txt', 'wb') as f:\n",
    "        f.write(response.content)\n",
    "        print('Dataset saved to file.')\n",
    "else:\n",
    "    print('Failed to download dataset.')"
   ]
  },
  {
   "cell_type": "code",
   "execution_count": null,
   "id": "dc7fdf44",
   "metadata": {
    "scrolled": true
   },
   "outputs": [],
   "source": [
    "import random\n",
    "\n",
    "def pick_word(file_path):\n",
    "    with open(file_path, \"r\") as file:\n",
    "        words = [word.strip() for word in file]\n",
    "        return random.choice(words)\n",
    "\n",
    "def show_word(word, guessed_letters):\n",
    "    shown_word = ''\n",
    "    for letter in word:\n",
    "        if letter.lower() in guessed_letters:\n",
    "            shown_word += letter + ' '\n",
    "        else:\n",
    "            shown_word += '_ '\n",
    "    return shown_word.strip()\n",
    "\n",
    "def get_input():\n",
    "    while True:\n",
    "        guess = input(\"Type a letter: \").lower()\n",
    "        if len(guess) != 1 or not guess.isalpha():\n",
    "            print(\"Invalid input. Please type a single letter.\")\n",
    "        else:\n",
    "            return guess\n",
    "\n",
    "def start_game():\n",
    "    word = pick_word(\"words.txt\")\n",
    "\n",
    "    guessed_letters = []\n",
    "    num_guesses = 7\n",
    "\n",
    "    while num_guesses > 0:\n",
    "        \n",
    "        shown_word = show_word(word, guessed_letters)\n",
    "        print(shown_word)\n",
    "\n",
    "        guess = get_input()\n",
    "\n",
    "        if guess in word.lower():\n",
    "            print(\"Correct!\")\n",
    "            guessed_letters.append(guess)\n",
    "        else:\n",
    "            num_guesses -= 1\n",
    "            print(\"Incorrect. You have\", num_guesses, \"guesses left.\")\n",
    "\n",
    "        if all(letter.lower() in guessed_letters for letter in word):\n",
    "            print(\"Congratulations! You guessed the word:\", word)\n",
    "            break\n",
    "\n",
    "    if num_guesses == 0:\n",
    "        print(\"Game over. The word was:\", word)\n",
    "\n",
    "if __name__ == '__main__':\n",
    "    start_game()\n",
    "\n",
    "\n"
   ]
  },
  {
   "cell_type": "markdown",
   "id": "f657f0cd",
   "metadata": {},
   "source": [
    "## Write a program on the Fibonacci sequence using both iterations and recursion, and including rendering time to compare the performance of both approaches."
   ]
  },
  {
   "cell_type": "markdown",
   "id": "2efa5c71",
   "metadata": {},
   "source": [
    "Using Iteration:"
   ]
  },
  {
   "cell_type": "code",
   "execution_count": 3,
   "id": "b303baa4",
   "metadata": {},
   "outputs": [
    {
     "name": "stdout",
     "output_type": "stream",
     "text": [
      "Enter a number: 20\n",
      "The given value is (20) and the answer is: 6765\n",
      "The execution time using iterative approach: 0.0009975433349609375 seconds\n"
     ]
    }
   ],
   "source": [
    "import time\n",
    "\n",
    "def fibonacci_iterative(n):\n",
    "    if n == 0:\n",
    "        return 0\n",
    "    elif n == 1:\n",
    "        return 1\n",
    "    else:\n",
    "        x, y = 0, 1\n",
    "        for i in range(n-1):\n",
    "            x, y = y, x + y\n",
    "        return y\n",
    "    \n",
    "n = int(input(\"Enter a number: \"))\n",
    "\n",
    "start_time = time.time()\n",
    "fibo1_iterative = fibonacci_iterative(n)\n",
    "end_time = time.time()\n",
    "iterative_time = end_time - start_time\n",
    "\n",
    "print(f\"The given value is ({n}) and the answer is: {fibo1_iterative}\")\n",
    "print(f\"The execution time using iterative: {iterative_time} seconds\")\n",
    "\n"
   ]
  },
  {
   "cell_type": "code",
   "execution_count": 9,
   "id": "7f2803b9",
   "metadata": {},
   "outputs": [
    {
     "name": "stdout",
     "output_type": "stream",
     "text": [
      "Enter a number: 2\n",
      "The given value (2) and the answer is 1\n",
      "The execution time using recursive: 0.0 seconds\n"
     ]
    }
   ],
   "source": [
    "def fibonacci_recursive(n):\n",
    "    if n == 0:\n",
    "        return 0\n",
    "    elif n == 1:\n",
    "        return 1\n",
    "    else:\n",
    "        return fibonacci_recursive(n-1) + fibonacci_recursive(n-2)\n",
    "\n",
    "n = int(input(\"Enter a number: \"))\n",
    "\n",
    "start_time = time.time()\n",
    "fibo2_recursive = fibonacci_recursive(n)\n",
    "end_time = time.time()\n",
    "recursive_time = end_time - start_time\n",
    "\n",
    "print(f\"The given value ({n}) and the answer is {fibo2_recursive}\")\n",
    "print(f\"The execution time using recursive: {recursive_time} seconds\")\n",
    "\n",
    "    \n",
    "    "
   ]
  },
  {
   "cell_type": "markdown",
   "id": "7f4cc55a",
   "metadata": {},
   "source": [
    "## Write a program to find the solution to the equation "
   ]
  },
  {
   "cell_type": "markdown",
   "id": "939735ea",
   "metadata": {},
   "source": [
    "Using iteration"
   ]
  },
  {
   "cell_type": "code",
   "execution_count": 9,
   "id": "7ce6b2eb",
   "metadata": {},
   "outputs": [
    {
     "name": "stdout",
     "output_type": "stream",
     "text": [
      "2.154\n",
      "2.097\n",
      "2.119\n",
      "2.111\n",
      "2.114\n",
      "2.113\n",
      "2.113\n",
      "The solution to the equation is 2.113 since x_6 and x_7 have the same value to 3 decimal places\n"
     ]
    }
   ],
   "source": [
    "x = 2\n",
    "for i in range(7):\n",
    "    y = (20 - 5 * x) ** (1 / 3)\n",
    "    x = y\n",
    "    print(round(x, 3))\n",
    "    \n",
    "print('The solution to the equation is 2.113 since x_6 and x_7 have the same value to 3 decimal places')    \n"
   ]
  },
  {
   "cell_type": "code",
   "execution_count": null,
   "id": "2e634742",
   "metadata": {},
   "outputs": [],
   "source": [
    "#for checking\n",
    "x = 2\n",
    "print(round(x, 3))\n",
    "\n",
    "x = 2\n",
    "y = (20 - 5 * x) ** (1 / 3)\n",
    "print(round(y, 3))\n",
    "\n",
    "x = y\n",
    "a = (20 - 5 * x) ** (1 / 3)\n",
    "print(round(a, 3))\n",
    "\n",
    "x = a\n",
    "b = (20 - 5 * x) ** (1 / 3)\n",
    "print(round(b, 3))\n",
    "\n",
    "x = b\n",
    "c = (20 - 5 * x) ** (1 / 3)\n",
    "print(round(c, 3))\n",
    "\n",
    "x = c\n",
    "d = (20 - 5 * x) ** (1 / 3)\n",
    "print(round(d, 3))\n",
    "\n",
    "x = d\n",
    "e = (20 - 5 * x) ** (1 / 3)\n",
    "print(round(e, 3))\n",
    "\n",
    "x = e\n",
    "f = (20 - 5 * x) ** (1 / 3)\n",
    "print(round(f, 3))\n"
   ]
  }
 ],
 "metadata": {
  "kernelspec": {
   "display_name": "Python 3 (ipykernel)",
   "language": "python",
   "name": "python3"
  },
  "language_info": {
   "codemirror_mode": {
    "name": "ipython",
    "version": 3
   },
   "file_extension": ".py",
   "mimetype": "text/x-python",
   "name": "python",
   "nbconvert_exporter": "python",
   "pygments_lexer": "ipython3",
   "version": "3.9.13"
  }
 },
 "nbformat": 4,
 "nbformat_minor": 5
}
