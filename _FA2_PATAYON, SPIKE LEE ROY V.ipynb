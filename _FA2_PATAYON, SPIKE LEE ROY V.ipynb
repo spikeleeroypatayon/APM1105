{
 "cells": [
  {
   "cell_type": "markdown",
   "id": "921d1809",
   "metadata": {},
   "source": [
    "1. Write a Python function to multiply all the numbers in a list.\n",
    "\n",
    "Sample List : (5, 6, -1, 2, 4, -2, -10, 7)"
   ]
  },
  {
   "cell_type": "code",
   "execution_count": 1,
   "id": "e84799c3",
   "metadata": {},
   "outputs": [],
   "source": [
    "def multiply_list(y):\n",
    "    \n",
    "    product = 1\n",
    "    \n",
    "    for x in y:\n",
    "        product = product * x\n",
    "    return product"
   ]
  },
  {
   "cell_type": "code",
   "execution_count": 2,
   "id": "71a2126a",
   "metadata": {},
   "outputs": [
    {
     "name": "stdout",
     "output_type": "stream",
     "text": [
      "-33600\n"
     ]
    }
   ],
   "source": [
    "list1 = [5, 6, -1, 2, 4, -2, -10, 7]\n",
    "print(multiply_list(list1))"
   ]
  },
  {
   "cell_type": "markdown",
   "id": "83da08f5",
   "metadata": {},
   "source": [
    "2. Write a function that draws a grid"
   ]
  },
  {
   "cell_type": "code",
   "execution_count": 49,
   "id": "e77124c2",
   "metadata": {},
   "outputs": [],
   "source": [
    "def grid(row, col):\n",
    "    for i in range(row):\n",
    "        \n",
    "        print(\"+\" + \"---+\" * col)\n",
    "        \n",
    "        print(\"|\" + \"   |\" * col)\n",
    "        \n",
    "        print(\"|\" + \"   |\" * col)\n",
    "\n",
    "        print(\"+\" + \"---+\" * col)"
   ]
  },
  {
   "cell_type": "code",
   "execution_count": 50,
   "id": "6882bff7",
   "metadata": {},
   "outputs": [
    {
     "name": "stdout",
     "output_type": "stream",
     "text": [
      "+---+---+---+---+\n",
      "|   |   |   |   |\n",
      "|   |   |   |   |\n",
      "+---+---+---+---+\n",
      "+---+---+---+---+\n",
      "|   |   |   |   |\n",
      "|   |   |   |   |\n",
      "+---+---+---+---+\n",
      "+---+---+---+---+\n",
      "|   |   |   |   |\n",
      "|   |   |   |   |\n",
      "+---+---+---+---+\n",
      "+---+---+---+---+\n",
      "|   |   |   |   |\n",
      "|   |   |   |   |\n",
      "+---+---+---+---+\n"
     ]
    }
   ],
   "source": [
    "grid(4,4)"
   ]
  },
  {
   "cell_type": "code",
   "execution_count": null,
   "id": "61e855a6",
   "metadata": {},
   "outputs": [],
   "source": []
  }
 ],
 "metadata": {
  "kernelspec": {
   "display_name": "Python 3 (ipykernel)",
   "language": "python",
   "name": "python3"
  },
  "language_info": {
   "codemirror_mode": {
    "name": "ipython",
    "version": 3
   },
   "file_extension": ".py",
   "mimetype": "text/x-python",
   "name": "python",
   "nbconvert_exporter": "python",
   "pygments_lexer": "ipython3",
   "version": "3.9.13"
  }
 },
 "nbformat": 4,
 "nbformat_minor": 5
}
